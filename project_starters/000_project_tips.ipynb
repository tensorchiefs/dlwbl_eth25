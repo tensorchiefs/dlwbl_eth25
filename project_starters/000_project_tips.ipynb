{
 "cells": [
  {
   "cell_type": "markdown",
   "metadata": {},
   "source": [
    "# Tips and Tricks for your Projects"
   ]
  },
  {
   "cell_type": "markdown",
   "metadata": {},
   "source": [
    "## Getting data to colab \n",
    "\n",
    "### From Dropbox\n",
    "If you have a file in Dropbox, you can get the link to the file and use the following code to load it into your colab environment. \n",
    "\n",
    "Create a shared link for the file in Dropbox like this:\n",
    "\n",
    "```\n",
    "https://www.dropbox.com.../petfinder-pawpularity-score.zip?rlkey=5zxcpsc7x6jk74q8a4b5sloo7&dl=0\n",
    "```\n",
    "      \n",
    "Change the `dl=0` to `dl=1` and use the following code to load the file into your colab environment.\n",
    "\n",
    "```python\n",
    "import urllib\n",
    "import os\n",
    "if not os.path.isfile('petfinder-pawpularity-score.zip'):\n",
    "    urllib.request.urlretrieve(\"https://www.dropbox.com/scl/fi/of8dxl0eb9y0c81o0rzhn/petfinder-pawpularity-score.zip?rlkey=5zxcpsc7x6jk74q8a4b5sloo7&dl=1\",\n",
    "                               \"petfinder-pawpularity-score.zip\")\n",
    "!ls -lh petfinder-pawpularity-score.zip\n",
    "#### For unzipping the file\n",
    "!unzip -q -n petfinder-pawpularity-score.zip\n",
    "!ls -l train | wc -l #Number of Training data\n",
    "```"
   ]
  },
  {
   "cell_type": "markdown",
   "metadata": {},
   "source": []
  }
 ],
 "metadata": {
  "language_info": {
   "name": "python"
  }
 },
 "nbformat": 4,
 "nbformat_minor": 2
}
