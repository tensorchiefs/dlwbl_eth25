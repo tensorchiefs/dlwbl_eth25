{
  "cells": [
    {
      "cell_type": "markdown",
      "metadata": {
        "id": "HPIe4tIimsM1"
      },
      "source": [
        "# Hello Colab for R user\n",
        "\n",
        "New Google Colab Notebook: [![Open in Colab](https://colab.research.google.com/assets/colab-badge.svg)](https://colab.research.google.com/#create=true)\n",
        "\n",
        "## Note on Colab\n",
        "Colab uses so called ipython notebooks. They are quite similar to using R with Markdown / Quarto.\n",
        "\n",
        "# Translation of some common R stuff (very Basic)\n",
        "\n",
        "```R\n",
        "### Basic Stuff\n",
        "v=c(3,1,3,2,1,5) #Generate Python code similar to R\n",
        "v=c(3,1,3,2,1,5) #Generate Python code similar to R but uses numpy\n",
        "# Python is zero based!!!\n",
        "\n",
        "### For Loops\n",
        "# Translate the following R code to python\n",
        "for (i in 1:10){\n",
        "  y = y + 1\n",
        "}\n",
        "y\n",
        "\n",
        "#### Plotting\n",
        "# Translate the following R code to python\n",
        "x = seq(0,10,0.1)\n",
        "plot(x,sin(x))\n",
        "\n",
        "#### Functions\n",
        "# Translate the following R code to python\n",
        "f2 = function(a,b=1) a*b\n",
        "f2(10)\n",
        "\n",
        "#### Try your own favorite R function\n",
        "```"
      ]
    },
    {
      "cell_type": "markdown",
      "metadata": {},
      "source": []
    }
  ],
  "metadata": {
    "colab": {
      "provenance": []
    },
    "kernelspec": {
      "display_name": "Python 3",
      "name": "python3"
    },
    "language_info": {
      "name": "python"
    }
  },
  "nbformat": 4,
  "nbformat_minor": 0
}
