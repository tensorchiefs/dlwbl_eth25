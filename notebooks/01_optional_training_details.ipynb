{
 "cells": [
  {
   "cell_type": "markdown",
   "metadata": {
    "id": "zkwbsZYtY7_7"
   },
   "source": [
    "## Training and Autodiff with PyTorch and Keras\n",
    "\n",
    "This notebook looks behind the scences what is done in training using keras. We therefore show **autodiff** and how training can be done using autodiff for the **NLL** to do Gradient Descent. We will use the Banknote dataset for this example w/o hidden layers. \n",
    "\n",
    "[![Open in Colab](https://colab.research.google.com/assets/colab-badge.svg)](https://colab.research.google.com/github/tensorchiefs/dlwbl_eth25/blob/master/notebooks/01_fcnn_with_banknotes_training_details.ipynb)"
   ]
  },
  {
   "cell_type": "markdown",
   "metadata": {
    "id": "DlIPKjGu-UEj"
   },
   "source": [
    "#### Imports and Data\n",
    "\n",
    "In the next two cells, we load all the required libraries and functions from keras and numpy. We also download the data with the 5 featues from the provided url."
   ]
  },
  {
   "cell_type": "code",
   "execution_count": 73,
   "metadata": {
    "id": "TJSZXo7S-H5n"
   },
   "outputs": [
    {
     "name": "stdout",
     "output_type": "stream",
     "text": [
      "Keras_version: 3.8.0\n",
      "torch_version: 2.5.1\n",
      "keras backend: torch\n"
     ]
    }
   ],
   "source": [
    "# load required libraries:\n",
    "import numpy as np\n",
    "import matplotlib.pyplot as plt\n",
    "%matplotlib inline\n",
    "plt.style.use('default')\n",
    "\n",
    "import os\n",
    "os.environ[\"KERAS_BACKEND\"] = \"torch\"\n",
    "import keras\n",
    "import torch # not needed yet\n",
    "\n",
    "print(f'Keras_version: {keras.__version__}')# 3.5.0\n",
    "print(f'torch_version: {torch.__version__}')# 2.5.1+cu121\n",
    "print(f'keras backend: {keras.backend.backend()}')\n",
    "\n",
    "\n",
    "from keras.models import Sequential\n",
    "from keras.layers import Dense\n",
    "from keras.optimizers import SGD"
   ]
  },
  {
   "cell_type": "code",
   "execution_count": 74,
   "metadata": {
    "id": "6Ofvh7fPYV9i"
   },
   "outputs": [
    {
     "name": "stdout",
     "output_type": "stream",
     "text": [
      "(1372, 5)\n",
      "(1372, 2)\n",
      "(1372,)\n"
     ]
    }
   ],
   "source": [
    "# Load data from url\n",
    "from urllib.request import urlopen\n",
    "url = 'http://archive.ics.uci.edu/ml/machine-learning-databases/00267/data_banknote_authentication.txt'\n",
    "raw_data = urlopen(url)\n",
    "dataset = np.loadtxt(raw_data, delimiter=\",\")\n",
    "print(dataset.shape)\n",
    "\n",
    "# Here we extract the two features and the labels of the dataset\n",
    "X=dataset[:,[1,3]]\n",
    "Y=dataset[:,4]\n",
    "print(X.shape)\n",
    "print(Y.shape)"
   ]
  },
  {
   "cell_type": "markdown",
   "metadata": {},
   "source": [
    "## Autodiff Computation of the gradient w.r.t. to $w_1$\n",
    "\n",
    "In deep learning frame works can be calculated automatically via backpropagation (chain rule). "
   ]
  },
  {
   "cell_type": "code",
   "execution_count": 75,
   "metadata": {},
   "outputs": [
    {
     "name": "stdout",
     "output_type": "stream",
     "text": [
      "Predicted probability: 0.8532096743583679\n",
      "d(prob)/d(w1): 0.1252429485321045\n"
     ]
    }
   ],
   "source": [
    "import torch\n",
    "\n",
    "# Define the function\n",
    "def predict_prob(x1, x2, w1, w2, b):\n",
    "    return 1 / (1 + torch.exp(-(w1 * x1 + w2 * x2 + b)))\n",
    "\n",
    "# Define inputs with requires_grad=True for w1\n",
    "x1 = torch.tensor(1.0)\n",
    "x2 = torch.tensor(2.3)\n",
    "w1 = torch.tensor(0.3, requires_grad=True)\n",
    "w2 = torch.tensor(0.2)\n",
    "b = torch.tensor(1)\n",
    "\n",
    "# Compute the probability\n",
    "prob = predict_prob(x1, x2, w1, w2, b)\n",
    "\n",
    "# Compute the derivative with respect to w1 via backpropagation\n",
    "prob.backward()\n",
    "\n",
    "# Print the results\n",
    "print(f'Predicted probability: {prob.item()}')\n",
    "print(f'd(prob)/d(w1): {w1.grad.item()}')"
   ]
  },
  {
   "cell_type": "markdown",
   "metadata": {},
   "source": [
    "Calculation by hand using the chain rule:\n",
    "\n",
    "$$\n",
    "\\frac{\\partial \\sigma(z)}{\\partial w_1} = \n",
    "\\frac{\\partial \\sigma(z)}{\\partial z}  \\cdot \\frac{\\partial z}{\\partial w_1} \n",
    ",  \\;\\;\\text{with} \\frac{\\partial \\sigma(z)}{\\partial z} = \\sigma(z) \\cdot (1-\\sigma(z))\n",
    "$$"
   ]
  },
  {
   "cell_type": "code",
   "execution_count": 76,
   "metadata": {},
   "outputs": [
    {
     "data": {
      "text/plain": [
       "0.12524293594237704"
      ]
     },
     "execution_count": 76,
     "metadata": {},
     "output_type": "execute_result"
    }
   ],
   "source": [
    "x1=1.\n",
    "x2=2.3\n",
    "w1=0.3\n",
    "w2=0.2\n",
    "b=1.\n",
    "\n",
    "def sig(x):\n",
    "    return 1/(1+np.exp(-x))\n",
    "\n",
    "z = w1*x1 + w2*x2 + b\n",
    "sig(z) * (1 - sig(z)) * x1"
   ]
  },
  {
   "cell_type": "markdown",
   "metadata": {
    "id": "LXMTljrqtXqt"
   },
   "source": [
    "##  Training using Keras\n",
    "\n",
    "He used the Keras library to train the model"
   ]
  },
  {
   "cell_type": "markdown",
   "metadata": {
    "id": "64rucrOKe2mW"
   },
   "source": [
    "#### Definition of a NN with only one neuron after the input\n"
   ]
  },
  {
   "cell_type": "code",
   "execution_count": 77,
   "metadata": {
    "id": "wsfJWZi6gc04"
   },
   "outputs": [
    {
     "name": "stderr",
     "output_type": "stream",
     "text": [
      "/Users/oli/Documents/GitHub/dlwbl_eth25/env/lib/python3.10/site-packages/keras/src/layers/core/dense.py:87: UserWarning: Do not pass an `input_shape`/`input_dim` argument to a layer. When using Sequential models, prefer using an `Input(shape)` object as the first layer in the model instead.\n",
      "  super().__init__(activity_regularizer=activity_regularizer, **kwargs)\n"
     ]
    }
   ],
   "source": [
    "model = Sequential() # starts the definition of the network\n",
    "model.add(Dense(1, input_shape=(2,), activation='sigmoid'))  # adds a new layer to the network with a single neuron\n",
    "                                                            # The input is a tensor of size (batch_size, 2), since we don’t specify the Batch Size now, we use None as a placeholder\n",
    "\n",
    "sgd = SGD(learning_rate=0.10)\n",
    "\n",
    "# Compile the model\n",
    "model.compile(loss='binary_crossentropy', # compile model, which ends the definition of the model\n",
    "              optimizer=sgd,              # using the stochastic gradient descent optimizer\n",
    "              metrics=['accuracy'])"
   ]
  },
  {
   "cell_type": "markdown",
   "metadata": {
    "id": "AI_YeSyBEHTc"
   },
   "source": [
    "In the next cell, we train the network. In other words, we tune the parameters that were initialized randomly with stochastic gradient descent to minimize our loss function (the binary crossentropy). We set the batchsize to 128 per updatestep and train for 400 epochs."
   ]
  },
  {
   "cell_type": "code",
   "execution_count": 78,
   "metadata": {
    "id": "E34YcE-Wg34o"
   },
   "outputs": [],
   "source": [
    "# Training of the network\n",
    "history = model.fit(X, Y,                           # training of the model using the training data stored in X and Y for 4100 epochs\n",
    "          epochs=100,                               # for 400 epochs\n",
    "          batch_size=128,                           # fix the batch size to 128 examples\n",
    "          verbose=0)"
   ]
  },
  {
   "cell_type": "markdown",
   "metadata": {
    "id": "zqE0FrJ9FPM2"
   },
   "source": [
    "Let's look at the so called leraning curve, we plot the accuracy and the loss vs the epochs. You can see that after 100 epochs, we predict around 70% of our data correct and have a loss around 0.51 (these values can vary from run to run)."
   ]
  },
  {
   "cell_type": "code",
   "execution_count": 79,
   "metadata": {
    "id": "vFQ5RgbciCqc"
   },
   "outputs": [
    {
     "data": {
      "image/png": "[encoded data removed]",
      "text/plain": [
       "<Figure size 800x200 with 1 Axes>"
      ]
     },
     "metadata": {},
     "output_type": "display_data"
    },
    {
     "name": "stdout",
     "output_type": "stream",
     "text": [
      "After training: Weights: [[-0.34062374 -0.5209293 ]]  Biases: [-0.18055691] Final loss: 0.5120294094085693\n"
     ]
    }
   ],
   "source": [
    "# plot the development of the accuracy and the loss during the training\n",
    "plt.figure(figsize=(8, 2))\n",
    "plt.plot(history.history['loss'])\n",
    "plt.title('model loss')\n",
    "plt.ylabel('loss')\n",
    "plt.xlabel('epoch')\n",
    "plt.legend(['train'], loc='upper right')\n",
    "plt.show()\n",
    "\n",
    "# Get the weights and biases from the Keras model\n",
    "weights, biases = model.get_weights()\n",
    "\n",
    "print(f'After training: Weights: {weights.T}  Biases: {biases} Final loss: {history.history[\"loss\"][-1]}')"
   ]
  },
  {
   "cell_type": "markdown",
   "metadata": {},
   "source": [
    "## Training using PyTorch\n",
    "\n",
    "Now we do the train by ourself by using autodiff."
   ]
  },
  {
   "cell_type": "code",
   "execution_count": 80,
   "metadata": {},
   "outputs": [],
   "source": [
    "# Convert to torch Tensors\n",
    "X = torch.tensor(X, dtype=torch.float32)   # shape (1372, 2)\n",
    "Y = torch.tensor(Y, dtype=torch.float32)   # shape (1372,)"
   ]
  },
  {
   "cell_type": "code",
   "execution_count": 81,
   "metadata": {},
   "outputs": [
    {
     "data": {
      "text/plain": [
       "torch.Size([1372])"
      ]
     },
     "execution_count": 81,
     "metadata": {},
     "output_type": "execute_result"
    }
   ],
   "source": [
    "# Initialize parameters\n",
    "W = torch.zeros(2, 1, requires_grad=True)  # shape (2,1)\n",
    "b = torch.zeros(1, requires_grad=True)     # shape (1,)\n",
    "\n",
    "def predict_prob(X, W, b):\n",
    "    \"\"\"\n",
    "    Logistic regression forward pass:\n",
    "    X: shape (N, 2)\n",
    "    W: shape (2,1)\n",
    "    b: scalar\n",
    "    returns: predicted probabilities in shape (N,)\n",
    "    \"\"\"\n",
    "    z = X @ W + b  # Matrix multiplication (N,2) @ (2,1) -> (N,1)\n",
    "    return 1 / (1 + torch.exp(-z)).squeeze(1)  # Output shape (N,)\n",
    "\n",
    "ps = predict_prob(X, W, b)\n",
    "ps.shape\n"
   ]
  },
  {
   "cell_type": "code",
   "execution_count": 82,
   "metadata": {},
   "outputs": [],
   "source": [
    "def NLL(X, Y, W, b):\n",
    "    \"\"\"\n",
    "    Negative Log-Likelihood (binary cross-entropy) for logistic regression\n",
    "    X: shape (N, 2)\n",
    "    Y: shape (N,) with 0/1\n",
    "    \"\"\"\n",
    "    eps = 1e-7\n",
    "    p = predict_prob(X, W, b).clamp(eps, 1 - eps)   # numerically safe\n",
    "    loss = - (Y * torch.log(p) + (1 - Y) * torch.log(1 - p)).mean()\n",
    "    return loss\n"
   ]
  },
  {
   "cell_type": "code",
   "execution_count": 83,
   "metadata": {},
   "outputs": [
    {
     "name": "stdout",
     "output_type": "stream",
     "text": [
      "Final W: [[-0.32734278 -0.50651157]],  b: -0.108\n",
      "Final loss: 0.5118\n"
     ]
    }
   ],
   "source": [
    "learning_rate = 0.1\n",
    "n_epochs = 100\n",
    "loss_history = []\n",
    "\n",
    "for epoch in range(n_epochs):\n",
    "    # 1) Forward + loss\n",
    "    loss = NLL(X, Y, W, b)\n",
    "    loss_history.append(loss.item())\n",
    "    \n",
    "    # 2) Backprop to compute dLoss/dW and dLoss/db\n",
    "    loss.backward()\n",
    "    \n",
    "    # 3) Gradient descent update (manual)\n",
    "    with torch.no_grad():\n",
    "        W -= learning_rate * W.grad\n",
    "        b -= learning_rate * b.grad\n",
    "    \n",
    "    # 4) Zero out gradients for next iteration\n",
    "    W.grad.zero_()\n",
    "    b.grad.zero_()\n",
    "\n",
    "# Final result\n",
    "print(f\"Final W: {W.T.detach().numpy()},  b: {b.item():.3f}\")\n",
    "print(f\"Final loss: {loss_history[-1]:.4f}\")"
   ]
  },
  {
   "cell_type": "code",
   "execution_count": 84,
   "metadata": {},
   "outputs": [
    {
     "data": {
      "image/png": "[encoded data removed]",
      "text/plain": [
       "<Figure size 800x200 with 1 Axes>"
      ]
     },
     "metadata": {},
     "output_type": "display_data"
    }
   ],
   "source": [
    "plt.figure(figsize=(8, 2))\n",
    "plt.plot(loss_history)\n",
    "plt.title('Loss History')\n",
    "plt.ylabel('Loss')\n",
    "plt.xlabel('Epoch')\n",
    "plt.legend(['train'], loc='upper right')\n",
    "plt.show()"
   ]
  },
  {
   "cell_type": "code",
   "execution_count": 85,
   "metadata": {},
   "outputs": [
    {
     "name": "stdout",
     "output_type": "stream",
     "text": [
      "Weights: [[-0.32734278 -0.50651157]] Biases: -0.10773194581270218  Final loss: 0.5117965340614319\n"
     ]
    }
   ],
   "source": [
    "print(f'Weights: {W.T.detach().numpy()} Biases: {b.item()}  Final loss: {loss_history[-1]}')"
   ]
  }
 ],
 "metadata": {
  "colab": {
   "provenance": []
  },
  "kernel_info": {
   "name": "python3"
  },
  "kernelspec": {
   "display_name": "env",
   "language": "python",
   "name": "python3"
  },
  "language_info": {
   "codemirror_mode": {
    "name": "ipython",
    "version": 3
   },
   "file_extension": ".py",
   "mimetype": "text/x-python",
   "name": "python",
   "nbconvert_exporter": "python",
   "pygments_lexer": "ipython3",
   "version": "3.10.16"
  }
 },
 "nbformat": 4,
 "nbformat_minor": 0
}
