{
  "cells": [
    {
      "cell_type": "markdown",
      "metadata": {
        "id": "VY3Mj7nhDOWA"
      },
      "source": [
        "## Sampling from a langue model \n",
        "\n",
        "[![Open in Colab](https://colab.research.google.com/assets/colab-badge.svg)](https://colab.research.google.com/github/tensorchiefs/dlwbl_eth25/blob/master/notebooks/03_sampling_lmm.ipynb)\n",
        "\n",
        "The following NB demonstrates the sampling from a causal LLM, like the GPT models.\n",
        "\n",
        "The idea is to generate a sequence of tokens, one at a time, by sampling from the conditional distribution of the next token given the previous ones. This is done by sampling from the output of the model, which is a probability distribution over the vocabulary.\n",
        "\n",
        "We start by using very small GTP-2 Models from the `transformers` library of Hugging Face. If you want to use a larger model, you can change the `model_name` to more powerful models."
      ]
    },
    {
      "cell_type": "code",
      "execution_count": 1,
      "metadata": {
        "colab": {
          "base_uri": "https://localhost:8080/"
        },
        "id": "gg2p7dtSDOWB",
        "outputId": "a6ae3750-9b53-4d86-f734-d48ef507e7ca"
      },
      "outputs": [
        {
          "name": "stdout",
          "output_type": "stream",
          "text": [
            "Keras_version: 3.8.0\n",
            "torch_version: 2.5.1\n",
            "keras backend: torch\n",
            "CPU available: False\n",
            "Device: cpu\n"
          ]
        }
      ],
      "source": [
        "#load required libraries:\n",
        "import numpy as np\n",
        "import matplotlib.pyplot as plt\n",
        "%matplotlib inline\n",
        "plt.style.use('default')\n",
        "\n",
        "import os\n",
        "os.environ[\"KERAS_BACKEND\"] =\"torch\"\n",
        "import keras\n",
        "import torch\n",
        "print(f'Keras_version: {keras.__version__}')# 3.5.0\n",
        "print(f'torch_version: {torch.__version__}')# 2.5.1+cu121\n",
        "print(f'keras backend: {keras.backend.backend()}')\n",
        "\n",
        "# Keras Building blocks\n",
        "from keras.models import Sequential\n",
        "from keras.layers import Dense, Convolution2D, MaxPooling2D, Flatten , Activation, Input\n",
        "from keras.optimizers import SGD\n",
        "from keras.utils import to_categorical\n",
        "from keras import optimizers\n",
        "\n",
        "import time\n",
        "print(f\"CPU available: {torch.cuda.is_available()}\")\n",
        "device = torch.device(\"cuda\" if torch.cuda.is_available() else \"cpu\")\n",
        "print(f\"Device: {device}\")"
      ]
    },
    {
      "cell_type": "markdown",
      "metadata": {},
      "source": [
        "## Selecting the model\n"
      ]
    },
    {
      "cell_type": "code",
      "execution_count": 24,
      "metadata": {},
      "outputs": [],
      "source": [
        "from transformers import AutoTokenizer, AutoModelForCausalLM\n",
        "\n",
        "# Load pretrained model and tokenizer\n",
        "#model_name = \"tiiuae/falcon-7b-instruct\" #High mem confing runs ok\n",
        "model_name = \"deepseek-ai/DeepSeek-R1-Distill-Llama-8B\" #Quite slow on mac\n",
        "model_name = \"deepseek-ai/DeepSeek-R1-Distill-Qwen-1.5B\" #For math OK\n",
        "model_name = \"gpt2\" #Runs on standard Colab Instances\n",
        "#model_name = \"TinyLlama/TinyLlama_v1.1\"\n",
        "\n",
        "use_quantized_model = False # Works at colab but currently (Feb 2025) need quite some time for installing\n"
      ]
    },
    {
      "cell_type": "markdown",
      "metadata": {
        "id": "lFabKFUilYlw"
      },
      "source": [
        "## Tokenization"
      ]
    },
    {
      "cell_type": "code",
      "execution_count": 25,
      "metadata": {
        "colab": {
          "base_uri": "https://localhost:8080/",
          "height": 99,
          "referenced_widgets": [
            "6be66f234d184c778fa66940d8383508",
            "03ac0210192947caa8ee1fe8de20470f",
            "1d186e2217f542bdababb46c1ab8ab21",
            "f76f50b744c94ff0a98d914dbdfe3ece",
            "3125a18e3ae74bc1a427c3cc8aac97fd",
            "ff1e19ad4c7a4429bec30104c001ec47",
            "f3bd24f5551f4b6aa37457551ca6d26a",
            "3bb0823efb4845f199f1d399fffcd0e7",
            "0cf82a4e8c93423e887f82b1fa6ad1f2",
            "b82a193d7c4b46e2af5a16837b0ff933",
            "0f80afb4364547338904a7b9bdbf20e9",
            "33a8271d964245e18c91af077032da0c",
            "8c30304ec0e740879c72cc8710bd3e12",
            "d29cecac3e0b434897d257cb1999b439",
            "1f0b33637991434794bde8ef67e55386",
            "3097f5b32a4049cab71e80663e1b05be",
            "8b20c43280b84aaf9b0e721eca12cc47",
            "de4b63ea9c274b949e81bdbeddfa71c2",
            "097ed3828c5148ac9af403a58a093b22",
            "8af52810fda0433bb7fdafb444854750",
            "3d89cea86a2647b594faa6d4f561cedc",
            "17e7fd75de674c9399ca8d8a93c8335d"
          ]
        },
        "id": "dvQ1tCBEDOWC",
        "outputId": "5783a10f-810f-4f8c-bfdb-4212a7919c51"
      },
      "outputs": [
        {
          "data": {
            "text/plain": [
              "tensor([15496,  2159,   367,   917])"
            ]
          },
          "execution_count": 25,
          "metadata": {},
          "output_type": "execute_result"
        }
      ],
      "source": [
        "tokenizer = AutoTokenizer.from_pretrained(model_name)\n",
        "input_context = \"Hello World Hund\"\n",
        "torch.tensor(tokenizer.encode(input_context))\n",
        "# For GPT2 Tokenization\n",
        "# 15496 is for 'Hello ' note the trailing white space\n",
        "#  2159 is for ' World' note the leading white space\n",
        "#   367 is for ' H'\n",
        "#   917 is for 'und'"
      ]
    },
    {
      "cell_type": "markdown",
      "metadata": {},
      "source": [
        "### 🔧 **YOUR TASK:**\n",
        "\n",
        "- Decode the following token ids (gpt-2) coding"
      ]
    },
    {
      "cell_type": "code",
      "execution_count": 4,
      "metadata": {},
      "outputs": [
        {
          "data": {
            "text/plain": [
              "tensor([ 8642,   265,  1741,     0,  6733,   317,  3046,    70, 11231,   318,\n",
              "           83, 20383,  9101,   301, 50169,   237])"
            ]
          },
          "execution_count": 4,
          "metadata": {},
          "output_type": "execute_result"
        }
      ],
      "source": [
        "ids = torch.tensor([ 8642,   265,  1741,     0,  6733,   317,  3046,    70, 11231,   318, 83, 20383,  9101,   301, 50169,   237])\n",
        "ids"
      ]
    },
    {
      "cell_type": "code",
      "execution_count": 5,
      "metadata": {},
      "outputs": [
        {
          "data": {
            "text/plain": [
              "'ARYre such! library);\\n basg ObservableimtgetMessage danel Changing�'"
            ]
          },
          "execution_count": 5,
          "metadata": {},
          "output_type": "execute_result"
        }
      ],
      "source": [
        "# @title 🔑 Solution Code { display-mode: \"form\" }\n",
        "tokenizer.decode(ids)"
      ]
    },
    {
      "cell_type": "markdown",
      "metadata": {
        "id": "6FDJrvTW8m12"
      },
      "source": [
        "## Downloading model"
      ]
    },
    {
      "cell_type": "code",
      "execution_count": 6,
      "metadata": {},
      "outputs": [],
      "source": [
        "if use_quantized_model:\n",
        "    !pip install bitsandbytes\n",
        "    !pip install 'accelerate>=0.26.0'"
      ]
    },
    {
      "cell_type": "code",
      "execution_count": 7,
      "metadata": {},
      "outputs": [
        {
          "data": {
            "application/vnd.jupyter.widget-view+json": {
              "model_id": "ed2aff584ec1438ea90847e201c67021",
              "version_major": 2,
              "version_minor": 0
            },
            "text/plain": [
              "config.json:   0%|          | 0.00/679 [00:00<?, ?B/s]"
            ]
          },
          "metadata": {},
          "output_type": "display_data"
        },
        {
          "data": {
            "application/vnd.jupyter.widget-view+json": {
              "model_id": "72356f0d90564565a006eb813846dd30",
              "version_major": 2,
              "version_minor": 0
            },
            "text/plain": [
              "model.safetensors:   0%|          | 0.00/3.55G [00:00<?, ?B/s]"
            ]
          },
          "metadata": {},
          "output_type": "display_data"
        },
        {
          "data": {
            "application/vnd.jupyter.widget-view+json": {
              "model_id": "cbfa0136de004278a35f1b69d4249b6e",
              "version_major": 2,
              "version_minor": 0
            },
            "text/plain": [
              "generation_config.json:   0%|          | 0.00/181 [00:00<?, ?B/s]"
            ]
          },
          "metadata": {},
          "output_type": "display_data"
        },
        {
          "data": {
            "text/plain": [
              "1.777088"
            ]
          },
          "execution_count": 7,
          "metadata": {},
          "output_type": "execute_result"
        }
      ],
      "source": [
        "if (use_quantized_model):\n",
        "    from transformers import BitsAndBytesConfig\n",
        "    bnb_config = BitsAndBytesConfig(\n",
        "              load_in_8bit=True,  # Load model in 8-bit precision\n",
        "              llm_int8_threshold=6.0  # Threshold for quantization\n",
        "       )\n",
        "    model = AutoModelForCausalLM.from_pretrained(model_name, quantization_config=bnb_config)\n",
        "else:\n",
        "    model = AutoModelForCausalLM.from_pretrained(model_name)\n",
        "\n",
        "model.num_parameters() / (1E9) #In Billions note that GPT 3.5 has 175B\n"
      ]
    },
    {
      "cell_type": "code",
      "execution_count": 8,
      "metadata": {
        "colab": {
          "base_uri": "https://localhost:8080/"
        },
        "id": "n32WhNSWG2Oy",
        "outputId": "487192f6-67c7-4372-baf6-2949f456e034"
      },
      "outputs": [
        {
          "data": {
            "text/plain": [
              "(tensor([[151646,    785,   9104,    374,   2167,   6419,   3351,     13,    358,\n",
              "            2776,   7274,    911,   2087,    369,    264]]),\n",
              " torch.Size([1, 15]))"
            ]
          },
          "execution_count": 8,
          "metadata": {},
          "output_type": "execute_result"
        }
      ],
      "source": [
        "#model = AutoModelForCausalLM.from_pretrained(model_name)\n",
        "input_context = \"The weather is really nice today. I'm thinking about going for a\"\n",
        "input_ids = torch.tensor(tokenizer.encode(input_context), device=device).unsqueeze(0)\n",
        "input_ids, input_ids.shape"
      ]
    },
    {
      "cell_type": "markdown",
      "metadata": {
        "id": "HQ72PnEBlSMD"
      },
      "source": [
        "## Predicting the next token"
      ]
    },
    {
      "cell_type": "code",
      "execution_count": 9,
      "metadata": {},
      "outputs": [
        {
          "name": "stdout",
          "output_type": "stream",
          "text": [
            "Execution Time: 0.495 seconds\n"
          ]
        }
      ],
      "source": [
        "start_time = time.time()\n",
        "outputs = model(input_ids) # We ask the model for the next token\n",
        "end_time = time.time()\n",
        "\n",
        "time_next_token = end_time - start_time\n",
        "print(f\"Execution Time: {time_next_token:.3f} seconds\")"
      ]
    },
    {
      "cell_type": "code",
      "execution_count": 10,
      "metadata": {
        "colab": {
          "base_uri": "https://localhost:8080/"
        },
        "id": "NPBPgkO7IX80",
        "outputId": "039f9d19-2283-42c4-979e-97d15e6bce37"
      },
      "outputs": [
        {
          "data": {
            "text/plain": [
              "torch.Size([1, 15, 151936])"
            ]
          },
          "execution_count": 10,
          "metadata": {},
          "output_type": "execute_result"
        }
      ],
      "source": [
        "outputs.logits.shape\n",
        "# We have 14 entries\n",
        "# Fhe first are the logits of the next token after 'The'\n",
        "# The second are the logits of the next token after 'The weather'\n",
        "# ...\n",
        "# The last is the next token after 'The weather is really nice today. I'm thinking about going for a'\n",
        "# This is the only one which matters"
      ]
    },
    {
      "cell_type": "code",
      "execution_count": 11,
      "metadata": {
        "colab": {
          "base_uri": "https://localhost:8080/"
        },
        "id": "sMqLqnEmIRA4",
        "outputId": "346f2c35-c7b4-40e5-8505-29bde0f1aaea"
      },
      "outputs": [
        {
          "data": {
            "text/plain": [
              "(torch.Size([1, 151936]),\n",
              " tensor([[ 4.4666,  2.6042, -0.3994,  ..., -2.1347, -2.1343, -2.1347]],\n",
              "        requires_grad=True))"
            ]
          },
          "execution_count": 11,
          "metadata": {},
          "output_type": "execute_result"
        }
      ],
      "source": [
        "with torch.no_grad():\n",
        "    next_token_logits = outputs.logits[:, -1, :]\n",
        "next_token_logits.shape, next_token_logits"
      ]
    },
    {
      "cell_type": "code",
      "execution_count": 12,
      "metadata": {
        "colab": {
          "base_uri": "https://localhost:8080/"
        },
        "id": "g8HKtE5Cmtek",
        "outputId": "57d2c1dc-11ec-41cf-ed60-5060abb9a96a"
      },
      "outputs": [
        {
          "data": {
            "text/plain": [
              "(tensor([4.1558e-06, 6.4540e-07, 3.2016e-08,  ..., 5.6459e-09, 5.6483e-09,\n",
              "         5.6460e-09], grad_fn=<SelectBackward0>),\n",
              " torch.Size([151936]))"
            ]
          },
          "execution_count": 12,
          "metadata": {},
          "output_type": "execute_result"
        }
      ],
      "source": [
        "probs = torch.nn.functional.softmax(next_token_logits, dim=-1)[0]\n",
        "probs, probs.shape"
      ]
    },
    {
      "cell_type": "code",
      "execution_count": 13,
      "metadata": {
        "colab": {
          "base_uri": "https://localhost:8080/"
        },
        "id": "eG034Wsjm6VK",
        "outputId": "8ed6e836-2eca-45af-be8f-ef872184e917"
      },
      "outputs": [
        {
          "name": "stdout",
          "output_type": "stream",
          "text": [
            "Token: ' walk', Probability: 0.7761977314949036, Cummulative: 0.7761977314949036\n",
            "Token: ' trip', Probability: 0.032332319766283035, Cummulative: 0.8085300512611866\n",
            "Token: ' long', Probability: 0.020836569368839264, Cummulative: 0.8293666206300259\n",
            "Token: '...\n",
            "', Probability: 0.014605040661990643, Cummulative: 0.8439716612920165\n",
            "Token: '\n",
            "', Probability: 0.014055178500711918, Cummulative: 0.8580268397927284\n",
            "Token: '...', Probability: 0.011412577703595161, Cummulative: 0.8694394174963236\n",
            "Token: ' hike', Probability: 0.011256502009928226, Cummulative: 0.8806959195062518\n",
            "Token: ' drive', Probability: 0.009733778424561024, Cummulative: 0.8904296979308128\n",
            "Token: ' ride', Probability: 0.0067239427007734776, Cummulative: 0.8971536406315863\n",
            "Token: ' stroll', Probability: 0.006140855606645346, Cummulative: 0.9032944962382317\n"
          ]
        }
      ],
      "source": [
        "# Find the indices that would sort the probabilities in descending order\n",
        "sorted_indices = torch.argsort(probs, dim=-1, descending=True)\n",
        "top_indices = sorted_indices[:10]\n",
        "\n",
        "cumulative_prob = 0\n",
        "for index in top_indices:\n",
        "  token = tokenizer.decode(index.item())\n",
        "  probability = probs[index].item()\n",
        "  cumulative_prob += probability\n",
        "  print(f\"Token: '{token}', Probability: {probability}, Cummulative: {cumulative_prob}\")"
      ]
    },
    {
      "cell_type": "code",
      "execution_count": 14,
      "metadata": {
        "colab": {
          "base_uri": "https://localhost:8080/",
          "height": 208
        },
        "id": "f54SflLpnecL",
        "outputId": "88c855dc-2c62-440a-ab55-1344e1270ee5"
      },
      "outputs": [
        {
          "data": {
            "image/png": "[encoded data removed]",
            "text/plain": [
              "<Figure size 1000x300 with 1 Axes>"
            ]
          },
          "metadata": {},
          "output_type": "display_data"
        }
      ],
      "source": [
        "import matplotlib.pyplot as plt\n",
        "top_indices = sorted_indices[:10]\n",
        "\n",
        "tokens = []\n",
        "probabilities = []\n",
        "for index in top_indices:\n",
        "  token = tokenizer.decode(index.item())\n",
        "  probability = probs[index].item()\n",
        "  tokens.append(token)\n",
        "  probabilities.append(probability)\n",
        "\n",
        "\n",
        "# \n",
        "# Add dataset information as text within the plot\n",
        "text_info = f\"Model: {model_name}\\n\"\n",
        "text_info\n",
        "\n",
        "\n",
        "plt.figure(figsize=(10, 3))\n",
        "plt.bar(tokens, probabilities)\n",
        "plt.xlabel(\"Tokens\")\n",
        "plt.ylabel(\"Probabilities\")\n",
        "plt.title(f\"Probabilities of Top 10 Next Tokens from '{input_context}'\")\n",
        "plt.xticks(rotation=45, ha=\"right\")\n",
        "plt.tight_layout()\n",
        "plt.text(0.5, -0.5, text_info, ha='center', va='center', transform=plt.gca().transAxes)  # Adjust position as needed\n",
        "plt.show()\n"
      ]
    },
    {
      "cell_type": "markdown",
      "metadata": {
        "id": "Gp8H-WnQxbN_"
      },
      "source": [
        "## Sampling a sequence"
      ]
    },
    {
      "cell_type": "markdown",
      "metadata": {
        "id": "UJ8YO8LXxhEt"
      },
      "source": [
        "### Basic Idea to sample t"
      ]
    },
    {
      "cell_type": "code",
      "execution_count": 15,
      "metadata": {
        "colab": {
          "base_uri": "https://localhost:8080/"
        },
        "id": "yPduLyM6x6bU",
        "outputId": "34fb60d9-2919-4768-814a-ce7785cc9275"
      },
      "outputs": [
        {
          "name": "stdout",
          "output_type": "stream",
          "text": [
            "Sampled token:  long\n"
          ]
        }
      ],
      "source": [
        "from torch.distributions import Categorical\n",
        "from collections import Counter\n",
        "\n",
        "# Create a categorical distribution based on the logits\n",
        "categorical_dist = Categorical(logits=next_token_logits)\n",
        "\n",
        "# Sample from the distribution\n",
        "sampled_index = categorical_dist.sample()\n",
        "\n",
        "# Decode the sampled index to get the actual token\n",
        "sampled_token = tokenizer.decode(sampled_index.item())\n",
        "print(\"Sampled token:\", sampled_token)"
      ]
    },
    {
      "cell_type": "code",
      "execution_count": 16,
      "metadata": {},
      "outputs": [
        {
          "name": "stdout",
          "output_type": "stream",
          "text": [
            "Token: ' walk', Frequency: 78\n",
            "Token: ' trip', Frequency: 5\n",
            "Token: '...', Frequency: 2\n",
            "Token: ' long', Frequency: 2\n",
            "Token: ' ride', Frequency: 1\n",
            "Token: ' pizza', Frequency: 1\n",
            "Token: ' rest', Frequency: 1\n",
            "Token: '命', Frequency: 1\n",
            "Token: '...\n",
            "', Frequency: 1\n",
            "Token: ')(\"', Frequency: 1\n"
          ]
        }
      ],
      "source": [
        "sampled_tokens = []\n",
        "for _ in range(100):\n",
        "    sampled_index = categorical_dist.sample()\n",
        "    sampled_token = tokenizer.decode(sampled_index.item())\n",
        "    sampled_tokens.append(sampled_token)\n",
        "\n",
        "# Create a frequency table\n",
        "frequency_table = Counter(sampled_tokens)\n",
        "\n",
        "# Sort the frequency table by frequency in descending order\n",
        "sorted_frequency_table = dict(sorted(frequency_table.items(), key=lambda item: item[1], reverse=True))\n",
        "\n",
        "# Display the top-5 frequencies\n",
        "for token, freq in list(sorted_frequency_table.items())[:10]:\n",
        "    print(f\"Token: '{token}', Frequency: {freq}\")"
      ]
    },
    {
      "cell_type": "code",
      "execution_count": 17,
      "metadata": {},
      "outputs": [],
      "source": [
        "# Function to apply top-k, top-p, and min-p filtering\n",
        "def filter_logits(logits, top_k=-1, top_p=2.0, min_p=0.0):\n",
        "    logits = logits.clone()\n",
        "\n",
        "    # Apply top-k: Keep only the top k logits\n",
        "    if top_k > 0:\n",
        "        top_k_values, _ = torch.topk(logits, top_k)\n",
        "        min_top_k_logit = top_k_values[:, -1].unsqueeze(-1)\n",
        "        logits[logits < min_top_k_logit] = -float('Inf')\n",
        "\n",
        "    # Apply top-p (nucleus sampling)\n",
        "    if top_p < 1.0:\n",
        "        sorted_logits, sorted_indices = torch.sort(logits, descending=True)\n",
        "        cumulative_probs = torch.cumsum(torch.softmax(sorted_logits, dim=-1), dim=-1)\n",
        "        sorted_indices_to_remove = cumulative_probs > top_p\n",
        "        if sorted_indices_to_remove[:, 0].any():\n",
        "            sorted_indices_to_remove[:, 1:] = sorted_indices_to_remove[:, :-1].clone()\n",
        "            sorted_indices_to_remove[:, 0] = False\n",
        "        indices_to_remove = sorted_indices_to_remove.scatter(1, sorted_indices, sorted_indices_to_remove)\n",
        "        logits[indices_to_remove] = -float('Inf')\n",
        "\n",
        "    # Apply min-p: Remove tokens below a minimum probability\n",
        "    probs = torch.softmax(logits, dim=-1)\n",
        "    logits[probs < min_p] = -float('Inf')\n",
        "\n",
        "    return logits"
      ]
    },
    {
      "cell_type": "code",
      "execution_count": 23,
      "metadata": {
        "colab": {
          "base_uri": "https://localhost:8080/"
        },
        "id": "qWQeXEJcqq3y",
        "outputId": "50ba17fd-b83c-467a-eff4-37a17d861e93"
      },
      "outputs": [
        {
          "data": {
            "text/plain": [
              "\"50. Next token: 311 ' to'\""
            ]
          },
          "metadata": {},
          "output_type": "display_data"
        },
        {
          "data": {
            "text/plain": [
              "'Solve for  x  in the equation  2x + 5 = 13 . (Think of x as a number)\\nOkay, so I need to solve the equation 2x + 5 = 13. Hmm, let me think about how to approach this. I remember that to solve for x, I need to'"
            ]
          },
          "metadata": {},
          "output_type": "display_data"
        },
        {
          "name": "stdout",
          "output_type": "stream",
          "text": [
            "\n",
            "Final Generated Text:\n",
            " Solve for  x  in the equation  2x + 5 = 13 . (Think of x as a number)\n",
            "Okay, so I need to solve the equation 2x + 5 = 13. Hmm, let me think about how to approach this. I remember that to solve for x, I need to  49 tokens in 15.583 seconds\n"
          ]
        }
      ],
      "source": [
        "from IPython.display import display, Markdown, clear_output\n",
        "# Input context\n",
        "input_context = \"What is seq(1,10,0.1) in python\"\n",
        "input_context = \"x^16/x^4\"\n",
        "input_context = \"The weather is really nice today. I'm thinking about going for a\"\n",
        "input_context = \"What is good enough in Chinese, give charaters and Pinyin\"\n",
        "input_context = \"What is the capital of France?\"\n",
        "input_context = \"Solve for  x  in the equation  2x + 5 = 13 .\" #Works with DeepSeek-R1-Distill-Qwen-1.5B\n",
        "\n",
        "\n",
        "# Typical settings for temperature, top-k, top-p, and min-p\n",
        "temperature = 0.7\n",
        "top_k=50\n",
        "top_p=0.95\n",
        "min_p=0.01\n",
        "\n",
        "# No temperature scaling and no filtering\n",
        "# temperature = 0.7\n",
        "# top_k=-50\n",
        "# top_p=100\n",
        "# min_p=0.0\n",
        "\n",
        "input_ids = torch.tensor(tokenizer.encode(input_context), device=device).unsqueeze(0)\n",
        "# EOS token ID\n",
        "eos_token_id = tokenizer.eos_token_id\n",
        "print(f\"EOS Token ID: {eos_token_id}\")\n",
        "\n",
        "# Function to sample the next token\n",
        "def sample_next_token(input_ids):\n",
        "    with torch.no_grad():  # Disable gradient calculation for evaluation\n",
        "        outputs = model(input_ids)\n",
        "    next_token_logits = outputs.logits[:, -1, :]\n",
        "\n",
        "    # Deterministic (greedy) decoding if temperature is 0\n",
        "    if temperature == 0.0:\n",
        "        sampled_index = torch.argmax(next_token_logits, dim=-1)\n",
        "        return sampled_index.item()\n",
        "\n",
        "    # Apply temperature scaling\n",
        "    scaled_logits = next_token_logits / temperature\n",
        "\n",
        "    # Apply top-k, top-p, and min-p filtering\n",
        "    filtered_logits = filter_logits(scaled_logits, top_k=top_k, top_p=top_p, min_p=min_p)\n",
        "\n",
        "    # Sample from the filtered distribution\n",
        "    categorical_dist = Categorical(logits=filtered_logits)\n",
        "    sampled_index = categorical_dist.sample()\n",
        "\n",
        "    return sampled_index.item()\n",
        "\n",
        "# Generate text until EOS token is reached\n",
        "generated_text = input_context\n",
        "new_text = \"\" \n",
        "num_tokens_to_generate = 50  # Max tokens to generate if EOS not encountered\n",
        "\n",
        "start_time = time.time()\n",
        "for i in range(num_tokens_to_generate):\n",
        "    sampled_token_index = sample_next_token(input_ids)\n",
        "\n",
        "    if sampled_token_index == eos_token_id:\n",
        "        display(\"\\n[End of Sequence Token Generated]\")\n",
        "        break\n",
        "\n",
        "    sampled_token = tokenizer.decode([sampled_token_index], clean_up_tokenization_spaces=True)\n",
        "\n",
        "    clear_output(wait=True)\n",
        "    display(f\"{i + 1}. Next token: {sampled_token_index} '{sampled_token}'\")\n",
        "    display(f\"{generated_text + sampled_token}\")\n",
        "    \n",
        "    generated_text += sampled_token\n",
        "    new_text += sampled_token\n",
        "    \n",
        "    input_ids = torch.cat([input_ids, torch.tensor([[sampled_token_index]], device=device)], dim=1)\n",
        "\n",
        "    \n",
        "\n",
        "print(\"\\nFinal Generated Text:\\n\", generated_text, f\" {i} tokens in {time.time() - start_time:.3f} seconds\")\n"
      ]
    },
    {
      "cell_type": "code",
      "execution_count": 22,
      "metadata": {},
      "outputs": [
        {
          "data": {
            "text/markdown": [
              "\n",
              "**Model:** deepseek-ai/DeepSeek-R1-Distill-Qwen-1.5B  \n",
              "\n",
              "**Temperature:** 0.7\n",
              "\n",
              "**Top-K:** 50  \n",
              "\n",
              "**Top-P:** 0.95  \n",
              "\n",
              "**Min-P:** 0.01\n",
              "\n",
              "<hr/>\n",
              "\n",
              "**Prompt:** <span style=\"color:green\">What is the capital of France?</span>  \n",
              "\n",
              "**Generated Text:**  \n",
              " And what is the capital of Italy?\n",
              "\n",
              "I need to provide a response in English, but I can choose to write in either English or French. Should I write in English or French?\n",
              "\n",
              "I will only use the first response if I'm confused. But\n"
            ],
            "text/plain": [
              "<IPython.core.display.Markdown object>"
            ]
          },
          "metadata": {},
          "output_type": "display_data"
        }
      ],
      "source": [
        "from IPython.display import display, Markdown\n",
        "\n",
        "output_text = f\"\"\"\n",
        "**Model:** {model_name}  \n",
        "\n",
        "**Temperature:** {temperature}\n",
        "\n",
        "**Top-K:** {top_k}  \n",
        "\n",
        "**Top-P:** {top_p}  \n",
        "\n",
        "**Min-P:** {min_p}\n",
        "\n",
        "<hr/>\n",
        "\n",
        "**Prompt:** <span style=\"color:green\">{input_context}</span>  \n",
        "\n",
        "**Generated Text:**  \n",
        "{new_text}\n",
        "\"\"\"\n",
        "\n",
        "display(Markdown(output_text))"
      ]
    },
    {
      "cell_type": "markdown",
      "metadata": {
        "id": "51UmGuk0t6jT"
      },
      "source": [
        "### 🔧 **YOUR TASK:**\n",
        "\n",
        "- Change the temperature to different values what do you observe? Also change the prompt to e.g. \"What is the capital of France.\"\n",
        "\n",
        "- If time, change model to a more powerfull model like: 'deepseek-ai/DeepSeek-R1-Distill-Llama-8B'"
      ]
    },
    {
      "cell_type": "markdown",
      "metadata": {
        "id": "CpMupczc44mL"
      },
      "source": [
        "### Bonus Visualization of the Embedding 🌟✨\n",
        "\n",
        "Note that the embeddings work with GPT-2 but not with all other models."
      ]
    },
    {
      "cell_type": "code",
      "execution_count": 125,
      "metadata": {},
      "outputs": [
        {
          "name": "stdout",
          "output_type": "stream",
          "text": [
            "tensor([ 0.0403, -0.0486,  0.0462, -0.0990,  0.0826])\n"
          ]
        },
        {
          "data": {
            "text/plain": [
              "tensor([ 0.0403, -0.0486,  0.0462, -0.0990,  0.0826])"
            ]
          },
          "execution_count": 125,
          "metadata": {},
          "output_type": "execute_result"
        }
      ],
      "source": [
        "# Function to get static embeddings from the embedding layer\n",
        "def get_static_embeddings(input_ids):\n",
        "    # Access the embedding layer directly\n",
        "    with torch.no_grad():\n",
        "        static_embeddings = model.transformer.wte(input_ids)\n",
        "    \n",
        "    return static_embeddings.squeeze(0)  # Shape: [sequence_length, hidden_size]\n",
        "\n",
        "# Example usage\n",
        "text = \"Data science and deep learning\"\n",
        "static_embeddings = get_static_embeddings(torch.tensor([1,2,3], device=device))\n",
        "print(static_embeddings[0,0:5])\n",
        "get_static_embeddings(torch.tensor([2,1,3],device=device))[1,0:5]\n"
      ]
    },
    {
      "cell_type": "code",
      "execution_count": 126,
      "metadata": {},
      "outputs": [
        {
          "name": "stderr",
          "output_type": "stream",
          "text": [
            "huggingface/tokenizers: The current process just got forked, after parallelism has already been used. Disabling parallelism to avoid deadlocks...\n",
            "To disable this warning, you can either:\n",
            "\t- Avoid using `tokenizers` before the fork if possible\n",
            "\t- Explicitly set the environment variable TOKENIZERS_PARALLELISM=(true | false)\n"
          ]
        },
        {
          "data": {
            "image/png": "[encoded data removed]",
            "text/plain": [
              "<Figure size 1600x1000 with 1 Axes>"
            ]
          },
          "metadata": {},
          "output_type": "display_data"
        }
      ],
      "source": [
        "from sklearn.manifold import TSNE\n",
        "words = [\n",
        "    \"cat\", \"dog\", \"fish\", \"bird\", \"tree\", \"book\", \"car\", \"bike\", \"milk\", \"cake\",\n",
        "    \"rain\", \"snow\", \"wind\", \"fire\", \"star\", \"moon\", \"sun\", \"sky\", \"blue\", \"red\",\n",
        "    \"green\", \"yellow\", \"black\", \"white\", \"pink\", \"gray\", \"gold\", \"silver\", \"bronze\",\n",
        "    \"iron\", \"wood\", \"rock\", \"sand\", \"dust\", \"cloud\", \"storm\", \"wave\", \"sea\", \"lake\",\n",
        "    \"pond\", \"river\", \"stream\", \"hill\", \"mount\", \"valley\", \"plain\", \"field\", \"meadow\",\n",
        "    \"forest\", \"jungle\", \"desert\", \"oasis\", \"island\", \"beach\", \"shore\", \"cliff\", \"cave\",\n",
        "    \"stone\", \"pebble\", \"shell\", \"leaf\", \"flower\", \"grass\", \"bush\", \"vine\", \"root\",\n",
        "    \"branch\", \"twig\", \"bark\", \"trunk\", \"seed\", \"fruit\", \"berry\", \"nut\", \"corn\", \"wheat\",\n",
        "    \"rice\", \"bean\", \"pea\", \"lentil\", \"chick\", \"duck\", \"goat\", \"sheep\", \"cow\", \"horse\",\n",
        "    \"pig\", \"deer\", \"bear\", \"wolf\", \"lion\", \"tiger\", \"mouse\", \"rat\", \"bat\", \"frog\",\n",
        "    \"toad\", \"crab\", \"fish\",\n",
        "\n",
        "    # 20 European Capitals\n",
        "    \"London\", \"Paris\", \"Berlin\", \"Rome\", \"Madrid\", \"Lisbon\", \"Vienna\", \"Prague\",\n",
        "    \"Budapest\", \"Warsaw\", \"Athens\", \"Copenhagen\", \"Helsinki\", \"Stockholm\", \"Oslo\",\n",
        "    \"Brussels\", \"Amsterdam\", \"Dublin\", \"Vilnius\", \"Zagreb\",\n",
        "\n",
        "    # Additional Colors\n",
        "    \"purple\", \"turquoise\", \"navy\", \"maroon\", \"beige\", \"cyan\", \"magenta\", \"lavender\",\n",
        "    \"teal\", \"olive\", \"amber\", \"indigo\", \"coral\", \"aqua\", \"violet\", \"burgundy\",\n",
        "    \"charcoal\", \"mustard\", \"peach\", \"salmon\"\n",
        "]\n",
        "\n",
        "# Get embeddings for the filtered short words\n",
        "short_word_embeddings = []\n",
        "for word in words:\n",
        "    token_id = tokenizer.encode(word, add_special_tokens=False)[0]\n",
        "    embedding = get_static_embeddings(torch.tensor([token_id], device=device))\n",
        "    short_word_embeddings.append(embedding.cpu().numpy())\n",
        "\n",
        "# Convert to numpy array\n",
        "short_word_embeddings = np.array(short_word_embeddings).squeeze()\n",
        "\n",
        "# Perform t-SNE\n",
        "tsne = TSNE(n_components=2, random_state=42)\n",
        "tsne_results = tsne.fit_transform(short_word_embeddings)\n",
        "\n",
        "# Plot the results\n",
        "plt.figure(figsize=(16, 10))\n",
        "plt.scatter(tsne_results[:, 0], tsne_results[:, 1], s=5)\n",
        "\n",
        "# Annotate the points with the words\n",
        "for i, word in enumerate(words):\n",
        "    plt.annotate(word, (tsne_results[i, 0], tsne_results[i, 1]), fontsize=12)\n",
        "\n",
        "plt.title(\"t-SNE visualization of short word embeddings\")\n",
        "plt.xlabel(\"t-SNE component 1\")\n",
        "plt.ylabel(\"t-SNE component 2\")\n",
        "plt.show()"
      ]
    },
    {
      "cell_type": "code",
      "execution_count": null,
      "metadata": {},
      "outputs": [],
      "source": []
    }
  ],
  "metadata": {
    "colab": {
      "machine_shape": "hm",
      "provenance": [],
      "toc_visible": true
    },
    "kernelspec": {
      "display_name": "Python 3",
      "name": "python3"
    },
    "language_info": {
      "codemirror_mode": {
        "name": "ipython",
        "version": 3
      },
      "file_extension": ".py",
      "mimetype": "text/x-python",
      "name": "python",
      "nbconvert_exporter": "python",
      "pygments_lexer": "ipython3",
      "version": "3.10.16"
    },
    "orig_nbformat": 4,
    "widgets": {
      "application/vnd.jupyter.widget-state+json": {
        "011c46d999ab41a48a875a1e160131bf": {
          "model_module": "@jupyter-widgets/base",
          "model_module_version": "1.2.0",
          "model_name": "LayoutModel",
          "state": {
            "_model_module": "@jupyter-widgets/base",
            "_model_module_version": "1.2.0",
            "_model_name": "LayoutModel",
            "_view_count": null,
            "_view_module": "@jupyter-widgets/base",
            "_view_module_version": "1.2.0",
            "_view_name": "LayoutView",
            "align_content": null,
            "align_items": null,
            "align_self": null,
            "border": null,
            "bottom": null,
            "display": null,
            "flex": null,
            "flex_flow": null,
            "grid_area": null,
            "grid_auto_columns": null,
            "grid_auto_flow": null,
            "grid_auto_rows": null,
            "grid_column": null,
            "grid_gap": null,
            "grid_row": null,
            "grid_template_areas": null,
            "grid_template_columns": null,
            "grid_template_rows": null,
            "height": null,
            "justify_content": null,
            "justify_items": null,
            "left": null,
            "margin": null,
            "max_height": null,
            "max_width": null,
            "min_height": null,
            "min_width": null,
            "object_fit": null,
            "object_position": null,
            "order": null,
            "overflow": null,
            "overflow_x": null,
            "overflow_y": null,
            "padding": null,
            "right": null,
            "top": null,
            "visibility": null,
            "width": null
          }
        },
        "03ac0210192947caa8ee1fe8de20470f": {
          "model_module": "@jupyter-widgets/controls",
          "model_module_version": "1.5.0",
          "model_name": "HTMLModel",
          "state": {
            "_dom_classes": [],
            "_model_module": "@jupyter-widgets/controls",
            "_model_module_version": "1.5.0",
            "_model_name": "HTMLModel",
            "_view_count": null,
            "_view_module": "@jupyter-widgets/controls",
            "_view_module_version": "1.5.0",
            "_view_name": "HTMLView",
            "description": "",
            "description_tooltip": null,
            "layout": "IPY_MODEL_ff1e19ad4c7a4429bec30104c001ec47",
            "placeholder": "​",
            "style": "IPY_MODEL_f3bd24f5551f4b6aa37457551ca6d26a",
            "value": "tokenizer_config.json: 100%"
          }
        },
        "07d30fb46b604c2ab6aeb623c75abc3b": {
          "model_module": "@jupyter-widgets/controls",
          "model_module_version": "1.5.0",
          "model_name": "FloatProgressModel",
          "state": {
            "_dom_classes": [],
            "_model_module": "@jupyter-widgets/controls",
            "_model_module_version": "1.5.0",
            "_model_name": "FloatProgressModel",
            "_view_count": null,
            "_view_module": "@jupyter-widgets/controls",
            "_view_module_version": "1.5.0",
            "_view_name": "ProgressView",
            "bar_style": "success",
            "description": "",
            "description_tooltip": null,
            "layout": "IPY_MODEL_c2db50b9d58e4ab7973652f1b07bc1bf",
            "max": 3554214621,
            "min": 0,
            "orientation": "horizontal",
            "style": "IPY_MODEL_36450bc5a3384baea5a9aa7c4e83a8f1",
            "value": 3554214621
          }
        },
        "097ed3828c5148ac9af403a58a093b22": {
          "model_module": "@jupyter-widgets/base",
          "model_module_version": "1.2.0",
          "model_name": "LayoutModel",
          "state": {
            "_model_module": "@jupyter-widgets/base",
            "_model_module_version": "1.2.0",
            "_model_name": "LayoutModel",
            "_view_count": null,
            "_view_module": "@jupyter-widgets/base",
            "_view_module_version": "1.2.0",
            "_view_name": "LayoutView",
            "align_content": null,
            "align_items": null,
            "align_self": null,
            "border": null,
            "bottom": null,
            "display": null,
            "flex": null,
            "flex_flow": null,
            "grid_area": null,
            "grid_auto_columns": null,
            "grid_auto_flow": null,
            "grid_auto_rows": null,
            "grid_column": null,
            "grid_gap": null,
            "grid_row": null,
            "grid_template_areas": null,
            "grid_template_columns": null,
            "grid_template_rows": null,
            "height": null,
            "justify_content": null,
            "justify_items": null,
            "left": null,
            "margin": null,
            "max_height": null,
            "max_width": null,
            "min_height": null,
            "min_width": null,
            "object_fit": null,
            "object_position": null,
            "order": null,
            "overflow": null,
            "overflow_x": null,
            "overflow_y": null,
            "padding": null,
            "right": null,
            "top": null,
            "visibility": null,
            "width": null
          }
        },
        "0cf82a4e8c93423e887f82b1fa6ad1f2": {
          "model_module": "@jupyter-widgets/controls",
          "model_module_version": "1.5.0",
          "model_name": "ProgressStyleModel",
          "state": {
            "_model_module": "@jupyter-widgets/controls",
            "_model_module_version": "1.5.0",
            "_model_name": "ProgressStyleModel",
            "_view_count": null,
            "_view_module": "@jupyter-widgets/base",
            "_view_module_version": "1.2.0",
            "_view_name": "StyleView",
            "bar_color": null,
            "description_width": ""
          }
        },
        "0f80afb4364547338904a7b9bdbf20e9": {
          "model_module": "@jupyter-widgets/controls",
          "model_module_version": "1.5.0",
          "model_name": "DescriptionStyleModel",
          "state": {
            "_model_module": "@jupyter-widgets/controls",
            "_model_module_version": "1.5.0",
            "_model_name": "DescriptionStyleModel",
            "_view_count": null,
            "_view_module": "@jupyter-widgets/base",
            "_view_module_version": "1.2.0",
            "_view_name": "StyleView",
            "description_width": ""
          }
        },
        "1610ed0355f2463992609f29db9c516c": {
          "model_module": "@jupyter-widgets/controls",
          "model_module_version": "1.5.0",
          "model_name": "HTMLModel",
          "state": {
            "_dom_classes": [],
            "_model_module": "@jupyter-widgets/controls",
            "_model_module_version": "1.5.0",
            "_model_name": "HTMLModel",
            "_view_count": null,
            "_view_module": "@jupyter-widgets/controls",
            "_view_module_version": "1.5.0",
            "_view_name": "HTMLView",
            "description": "",
            "description_tooltip": null,
            "layout": "IPY_MODEL_97526fa29cc14a82b2c40bce74856f1d",
            "placeholder": "​",
            "style": "IPY_MODEL_466a878eb5924ad0822103ab1672f6df",
            "value": "generation_config.json: 100%"
          }
        },
        "17e7fd75de674c9399ca8d8a93c8335d": {
          "model_module": "@jupyter-widgets/controls",
          "model_module_version": "1.5.0",
          "model_name": "DescriptionStyleModel",
          "state": {
            "_model_module": "@jupyter-widgets/controls",
            "_model_module_version": "1.5.0",
            "_model_name": "DescriptionStyleModel",
            "_view_count": null,
            "_view_module": "@jupyter-widgets/base",
            "_view_module_version": "1.2.0",
            "_view_name": "StyleView",
            "description_width": ""
          }
        },
        "1d186e2217f542bdababb46c1ab8ab21": {
          "model_module": "@jupyter-widgets/controls",
          "model_module_version": "1.5.0",
          "model_name": "FloatProgressModel",
          "state": {
            "_dom_classes": [],
            "_model_module": "@jupyter-widgets/controls",
            "_model_module_version": "1.5.0",
            "_model_name": "FloatProgressModel",
            "_view_count": null,
            "_view_module": "@jupyter-widgets/controls",
            "_view_module_version": "1.5.0",
            "_view_name": "ProgressView",
            "bar_style": "success",
            "description": "",
            "description_tooltip": null,
            "layout": "IPY_MODEL_3bb0823efb4845f199f1d399fffcd0e7",
            "max": 3071,
            "min": 0,
            "orientation": "horizontal",
            "style": "IPY_MODEL_0cf82a4e8c93423e887f82b1fa6ad1f2",
            "value": 3071
          }
        },
        "1f0b33637991434794bde8ef67e55386": {
          "model_module": "@jupyter-widgets/controls",
          "model_module_version": "1.5.0",
          "model_name": "HTMLModel",
          "state": {
            "_dom_classes": [],
            "_model_module": "@jupyter-widgets/controls",
            "_model_module_version": "1.5.0",
            "_model_name": "HTMLModel",
            "_view_count": null,
            "_view_module": "@jupyter-widgets/controls",
            "_view_module_version": "1.5.0",
            "_view_name": "HTMLView",
            "description": "",
            "description_tooltip": null,
            "layout": "IPY_MODEL_3d89cea86a2647b594faa6d4f561cedc",
            "placeholder": "​",
            "style": "IPY_MODEL_17e7fd75de674c9399ca8d8a93c8335d",
            "value": " 7.03M/7.03M [00:00&lt;00:00, 18.7MB/s]"
          }
        },
        "249983caf3e94d6b9cd5eb13fa1119ec": {
          "model_module": "@jupyter-widgets/controls",
          "model_module_version": "1.5.0",
          "model_name": "FloatProgressModel",
          "state": {
            "_dom_classes": [],
            "_model_module": "@jupyter-widgets/controls",
            "_model_module_version": "1.5.0",
            "_model_name": "FloatProgressModel",
            "_view_count": null,
            "_view_module": "@jupyter-widgets/controls",
            "_view_module_version": "1.5.0",
            "_view_name": "ProgressView",
            "bar_style": "success",
            "description": "",
            "description_tooltip": null,
            "layout": "IPY_MODEL_6cdedbaf597f4b7da7333294baa3fdbc",
            "max": 181,
            "min": 0,
            "orientation": "horizontal",
            "style": "IPY_MODEL_773b679ba38a48c9b3f97bb156649635",
            "value": 181
          }
        },
        "292fc3245ff3423d8a8364a104401579": {
          "model_module": "@jupyter-widgets/controls",
          "model_module_version": "1.5.0",
          "model_name": "HBoxModel",
          "state": {
            "_dom_classes": [],
            "_model_module": "@jupyter-widgets/controls",
            "_model_module_version": "1.5.0",
            "_model_name": "HBoxModel",
            "_view_count": null,
            "_view_module": "@jupyter-widgets/controls",
            "_view_module_version": "1.5.0",
            "_view_name": "HBoxView",
            "box_style": "",
            "children": [
              "IPY_MODEL_96f8bd8be57c414f968796ba3ce3eb4f",
              "IPY_MODEL_c91c92a2c7c247fda4c9e40fed0e3f96",
              "IPY_MODEL_85942b8bf96443f2b328eb5993c706d0"
            ],
            "layout": "IPY_MODEL_591b072bd349490783a2818f9d778155"
          }
        },
        "2adcabe836034323b0ab705a974cb2e9": {
          "model_module": "@jupyter-widgets/base",
          "model_module_version": "1.2.0",
          "model_name": "LayoutModel",
          "state": {
            "_model_module": "@jupyter-widgets/base",
            "_model_module_version": "1.2.0",
            "_model_name": "LayoutModel",
            "_view_count": null,
            "_view_module": "@jupyter-widgets/base",
            "_view_module_version": "1.2.0",
            "_view_name": "LayoutView",
            "align_content": null,
            "align_items": null,
            "align_self": null,
            "border": null,
            "bottom": null,
            "display": null,
            "flex": null,
            "flex_flow": null,
            "grid_area": null,
            "grid_auto_columns": null,
            "grid_auto_flow": null,
            "grid_auto_rows": null,
            "grid_column": null,
            "grid_gap": null,
            "grid_row": null,
            "grid_template_areas": null,
            "grid_template_columns": null,
            "grid_template_rows": null,
            "height": null,
            "justify_content": null,
            "justify_items": null,
            "left": null,
            "margin": null,
            "max_height": null,
            "max_width": null,
            "min_height": null,
            "min_width": null,
            "object_fit": null,
            "object_position": null,
            "order": null,
            "overflow": null,
            "overflow_x": null,
            "overflow_y": null,
            "padding": null,
            "right": null,
            "top": null,
            "visibility": null,
            "width": null
          }
        },
        "3097f5b32a4049cab71e80663e1b05be": {
          "model_module": "@jupyter-widgets/base",
          "model_module_version": "1.2.0",
          "model_name": "LayoutModel",
          "state": {
            "_model_module": "@jupyter-widgets/base",
            "_model_module_version": "1.2.0",
            "_model_name": "LayoutModel",
            "_view_count": null,
            "_view_module": "@jupyter-widgets/base",
            "_view_module_version": "1.2.0",
            "_view_name": "LayoutView",
            "align_content": null,
            "align_items": null,
            "align_self": null,
            "border": null,
            "bottom": null,
            "display": null,
            "flex": null,
            "flex_flow": null,
            "grid_area": null,
            "grid_auto_columns": null,
            "grid_auto_flow": null,
            "grid_auto_rows": null,
            "grid_column": null,
            "grid_gap": null,
            "grid_row": null,
            "grid_template_areas": null,
            "grid_template_columns": null,
            "grid_template_rows": null,
            "height": null,
            "justify_content": null,
            "justify_items": null,
            "left": null,
            "margin": null,
            "max_height": null,
            "max_width": null,
            "min_height": null,
            "min_width": null,
            "object_fit": null,
            "object_position": null,
            "order": null,
            "overflow": null,
            "overflow_x": null,
            "overflow_y": null,
            "padding": null,
            "right": null,
            "top": null,
            "visibility": null,
            "width": null
          }
        },
        "3125a18e3ae74bc1a427c3cc8aac97fd": {
          "model_module": "@jupyter-widgets/base",
          "model_module_version": "1.2.0",
          "model_name": "LayoutModel",
          "state": {
            "_model_module": "@jupyter-widgets/base",
            "_model_module_version": "1.2.0",
            "_model_name": "LayoutModel",
            "_view_count": null,
            "_view_module": "@jupyter-widgets/base",
            "_view_module_version": "1.2.0",
            "_view_name": "LayoutView",
            "align_content": null,
            "align_items": null,
            "align_self": null,
            "border": null,
            "bottom": null,
            "display": null,
            "flex": null,
            "flex_flow": null,
            "grid_area": null,
            "grid_auto_columns": null,
            "grid_auto_flow": null,
            "grid_auto_rows": null,
            "grid_column": null,
            "grid_gap": null,
            "grid_row": null,
            "grid_template_areas": null,
            "grid_template_columns": null,
            "grid_template_rows": null,
            "height": null,
            "justify_content": null,
            "justify_items": null,
            "left": null,
            "margin": null,
            "max_height": null,
            "max_width": null,
            "min_height": null,
            "min_width": null,
            "object_fit": null,
            "object_position": null,
            "order": null,
            "overflow": null,
            "overflow_x": null,
            "overflow_y": null,
            "padding": null,
            "right": null,
            "top": null,
            "visibility": null,
            "width": null
          }
        },
        "33a8271d964245e18c91af077032da0c": {
          "model_module": "@jupyter-widgets/controls",
          "model_module_version": "1.5.0",
          "model_name": "HBoxModel",
          "state": {
            "_dom_classes": [],
            "_model_module": "@jupyter-widgets/controls",
            "_model_module_version": "1.5.0",
            "_model_name": "HBoxModel",
            "_view_count": null,
            "_view_module": "@jupyter-widgets/controls",
            "_view_module_version": "1.5.0",
            "_view_name": "HBoxView",
            "box_style": "",
            "children": [
              "IPY_MODEL_8c30304ec0e740879c72cc8710bd3e12",
              "IPY_MODEL_d29cecac3e0b434897d257cb1999b439",
              "IPY_MODEL_1f0b33637991434794bde8ef67e55386"
            ],
            "layout": "IPY_MODEL_3097f5b32a4049cab71e80663e1b05be"
          }
        },
        "36450bc5a3384baea5a9aa7c4e83a8f1": {
          "model_module": "@jupyter-widgets/controls",
          "model_module_version": "1.5.0",
          "model_name": "ProgressStyleModel",
          "state": {
            "_model_module": "@jupyter-widgets/controls",
            "_model_module_version": "1.5.0",
            "_model_name": "ProgressStyleModel",
            "_view_count": null,
            "_view_module": "@jupyter-widgets/base",
            "_view_module_version": "1.2.0",
            "_view_name": "StyleView",
            "bar_color": null,
            "description_width": ""
          }
        },
        "3bb0823efb4845f199f1d399fffcd0e7": {
          "model_module": "@jupyter-widgets/base",
          "model_module_version": "1.2.0",
          "model_name": "LayoutModel",
          "state": {
            "_model_module": "@jupyter-widgets/base",
            "_model_module_version": "1.2.0",
            "_model_name": "LayoutModel",
            "_view_count": null,
            "_view_module": "@jupyter-widgets/base",
            "_view_module_version": "1.2.0",
            "_view_name": "LayoutView",
            "align_content": null,
            "align_items": null,
            "align_self": null,
            "border": null,
            "bottom": null,
            "display": null,
            "flex": null,
            "flex_flow": null,
            "grid_area": null,
            "grid_auto_columns": null,
            "grid_auto_flow": null,
            "grid_auto_rows": null,
            "grid_column": null,
            "grid_gap": null,
            "grid_row": null,
            "grid_template_areas": null,
            "grid_template_columns": null,
            "grid_template_rows": null,
            "height": null,
            "justify_content": null,
            "justify_items": null,
            "left": null,
            "margin": null,
            "max_height": null,
            "max_width": null,
            "min_height": null,
            "min_width": null,
            "object_fit": null,
            "object_position": null,
            "order": null,
            "overflow": null,
            "overflow_x": null,
            "overflow_y": null,
            "padding": null,
            "right": null,
            "top": null,
            "visibility": null,
            "width": null
          }
        },
        "3d89cea86a2647b594faa6d4f561cedc": {
          "model_module": "@jupyter-widgets/base",
          "model_module_version": "1.2.0",
          "model_name": "LayoutModel",
          "state": {
            "_model_module": "@jupyter-widgets/base",
            "_model_module_version": "1.2.0",
            "_model_name": "LayoutModel",
            "_view_count": null,
            "_view_module": "@jupyter-widgets/base",
            "_view_module_version": "1.2.0",
            "_view_name": "LayoutView",
            "align_content": null,
            "align_items": null,
            "align_self": null,
            "border": null,
            "bottom": null,
            "display": null,
            "flex": null,
            "flex_flow": null,
            "grid_area": null,
            "grid_auto_columns": null,
            "grid_auto_flow": null,
            "grid_auto_rows": null,
            "grid_column": null,
            "grid_gap": null,
            "grid_row": null,
            "grid_template_areas": null,
            "grid_template_columns": null,
            "grid_template_rows": null,
            "height": null,
            "justify_content": null,
            "justify_items": null,
            "left": null,
            "margin": null,
            "max_height": null,
            "max_width": null,
            "min_height": null,
            "min_width": null,
            "object_fit": null,
            "object_position": null,
            "order": null,
            "overflow": null,
            "overflow_x": null,
            "overflow_y": null,
            "padding": null,
            "right": null,
            "top": null,
            "visibility": null,
            "width": null
          }
        },
        "403615534ac34a38abbcfb67db4f7551": {
          "model_module": "@jupyter-widgets/controls",
          "model_module_version": "1.5.0",
          "model_name": "HTMLModel",
          "state": {
            "_dom_classes": [],
            "_model_module": "@jupyter-widgets/controls",
            "_model_module_version": "1.5.0",
            "_model_name": "HTMLModel",
            "_view_count": null,
            "_view_module": "@jupyter-widgets/controls",
            "_view_module_version": "1.5.0",
            "_view_name": "HTMLView",
            "description": "",
            "description_tooltip": null,
            "layout": "IPY_MODEL_97d6fa9e4119438bafffca862062c942",
            "placeholder": "​",
            "style": "IPY_MODEL_7f25ac0110e647f2adf5458208d6ed0a",
            "value": " 181/181 [00:00&lt;00:00, 12.8kB/s]"
          }
        },
        "45003c9cef994736b612f3df137a6f69": {
          "model_module": "@jupyter-widgets/controls",
          "model_module_version": "1.5.0",
          "model_name": "DescriptionStyleModel",
          "state": {
            "_model_module": "@jupyter-widgets/controls",
            "_model_module_version": "1.5.0",
            "_model_name": "DescriptionStyleModel",
            "_view_count": null,
            "_view_module": "@jupyter-widgets/base",
            "_view_module_version": "1.2.0",
            "_view_name": "StyleView",
            "description_width": ""
          }
        },
        "466a878eb5924ad0822103ab1672f6df": {
          "model_module": "@jupyter-widgets/controls",
          "model_module_version": "1.5.0",
          "model_name": "DescriptionStyleModel",
          "state": {
            "_model_module": "@jupyter-widgets/controls",
            "_model_module_version": "1.5.0",
            "_model_name": "DescriptionStyleModel",
            "_view_count": null,
            "_view_module": "@jupyter-widgets/base",
            "_view_module_version": "1.2.0",
            "_view_name": "StyleView",
            "description_width": ""
          }
        },
        "57a50fb22ee04440824d61f78f6b36c2": {
          "model_module": "@jupyter-widgets/base",
          "model_module_version": "1.2.0",
          "model_name": "LayoutModel",
          "state": {
            "_model_module": "@jupyter-widgets/base",
            "_model_module_version": "1.2.0",
            "_model_name": "LayoutModel",
            "_view_count": null,
            "_view_module": "@jupyter-widgets/base",
            "_view_module_version": "1.2.0",
            "_view_name": "LayoutView",
            "align_content": null,
            "align_items": null,
            "align_self": null,
            "border": null,
            "bottom": null,
            "display": null,
            "flex": null,
            "flex_flow": null,
            "grid_area": null,
            "grid_auto_columns": null,
            "grid_auto_flow": null,
            "grid_auto_rows": null,
            "grid_column": null,
            "grid_gap": null,
            "grid_row": null,
            "grid_template_areas": null,
            "grid_template_columns": null,
            "grid_template_rows": null,
            "height": null,
            "justify_content": null,
            "justify_items": null,
            "left": null,
            "margin": null,
            "max_height": null,
            "max_width": null,
            "min_height": null,
            "min_width": null,
            "object_fit": null,
            "object_position": null,
            "order": null,
            "overflow": null,
            "overflow_x": null,
            "overflow_y": null,
            "padding": null,
            "right": null,
            "top": null,
            "visibility": null,
            "width": null
          }
        },
        "591b072bd349490783a2818f9d778155": {
          "model_module": "@jupyter-widgets/base",
          "model_module_version": "1.2.0",
          "model_name": "LayoutModel",
          "state": {
            "_model_module": "@jupyter-widgets/base",
            "_model_module_version": "1.2.0",
            "_model_name": "LayoutModel",
            "_view_count": null,
            "_view_module": "@jupyter-widgets/base",
            "_view_module_version": "1.2.0",
            "_view_name": "LayoutView",
            "align_content": null,
            "align_items": null,
            "align_self": null,
            "border": null,
            "bottom": null,
            "display": null,
            "flex": null,
            "flex_flow": null,
            "grid_area": null,
            "grid_auto_columns": null,
            "grid_auto_flow": null,
            "grid_auto_rows": null,
            "grid_column": null,
            "grid_gap": null,
            "grid_row": null,
            "grid_template_areas": null,
            "grid_template_columns": null,
            "grid_template_rows": null,
            "height": null,
            "justify_content": null,
            "justify_items": null,
            "left": null,
            "margin": null,
            "max_height": null,
            "max_width": null,
            "min_height": null,
            "min_width": null,
            "object_fit": null,
            "object_position": null,
            "order": null,
            "overflow": null,
            "overflow_x": null,
            "overflow_y": null,
            "padding": null,
            "right": null,
            "top": null,
            "visibility": null,
            "width": null
          }
        },
        "63f4825894144d0398ca09917ca1b0a2": {
          "model_module": "@jupyter-widgets/controls",
          "model_module_version": "1.5.0",
          "model_name": "ProgressStyleModel",
          "state": {
            "_model_module": "@jupyter-widgets/controls",
            "_model_module_version": "1.5.0",
            "_model_name": "ProgressStyleModel",
            "_view_count": null,
            "_view_module": "@jupyter-widgets/base",
            "_view_module_version": "1.2.0",
            "_view_name": "StyleView",
            "bar_color": null,
            "description_width": ""
          }
        },
        "6be66f234d184c778fa66940d8383508": {
          "model_module": "@jupyter-widgets/controls",
          "model_module_version": "1.5.0",
          "model_name": "HBoxModel",
          "state": {
            "_dom_classes": [],
            "_model_module": "@jupyter-widgets/controls",
            "_model_module_version": "1.5.0",
            "_model_name": "HBoxModel",
            "_view_count": null,
            "_view_module": "@jupyter-widgets/controls",
            "_view_module_version": "1.5.0",
            "_view_name": "HBoxView",
            "box_style": "",
            "children": [
              "IPY_MODEL_03ac0210192947caa8ee1fe8de20470f",
              "IPY_MODEL_1d186e2217f542bdababb46c1ab8ab21",
              "IPY_MODEL_f76f50b744c94ff0a98d914dbdfe3ece"
            ],
            "layout": "IPY_MODEL_3125a18e3ae74bc1a427c3cc8aac97fd"
          }
        },
        "6cdedbaf597f4b7da7333294baa3fdbc": {
          "model_module": "@jupyter-widgets/base",
          "model_module_version": "1.2.0",
          "model_name": "LayoutModel",
          "state": {
            "_model_module": "@jupyter-widgets/base",
            "_model_module_version": "1.2.0",
            "_model_name": "LayoutModel",
            "_view_count": null,
            "_view_module": "@jupyter-widgets/base",
            "_view_module_version": "1.2.0",
            "_view_name": "LayoutView",
            "align_content": null,
            "align_items": null,
            "align_self": null,
            "border": null,
            "bottom": null,
            "display": null,
            "flex": null,
            "flex_flow": null,
            "grid_area": null,
            "grid_auto_columns": null,
            "grid_auto_flow": null,
            "grid_auto_rows": null,
            "grid_column": null,
            "grid_gap": null,
            "grid_row": null,
            "grid_template_areas": null,
            "grid_template_columns": null,
            "grid_template_rows": null,
            "height": null,
            "justify_content": null,
            "justify_items": null,
            "left": null,
            "margin": null,
            "max_height": null,
            "max_width": null,
            "min_height": null,
            "min_width": null,
            "object_fit": null,
            "object_position": null,
            "order": null,
            "overflow": null,
            "overflow_x": null,
            "overflow_y": null,
            "padding": null,
            "right": null,
            "top": null,
            "visibility": null,
            "width": null
          }
        },
        "773b679ba38a48c9b3f97bb156649635": {
          "model_module": "@jupyter-widgets/controls",
          "model_module_version": "1.5.0",
          "model_name": "ProgressStyleModel",
          "state": {
            "_model_module": "@jupyter-widgets/controls",
            "_model_module_version": "1.5.0",
            "_model_name": "ProgressStyleModel",
            "_view_count": null,
            "_view_module": "@jupyter-widgets/base",
            "_view_module_version": "1.2.0",
            "_view_name": "StyleView",
            "bar_color": null,
            "description_width": ""
          }
        },
        "780465483b6447f698a4a6143201bc34": {
          "model_module": "@jupyter-widgets/base",
          "model_module_version": "1.2.0",
          "model_name": "LayoutModel",
          "state": {
            "_model_module": "@jupyter-widgets/base",
            "_model_module_version": "1.2.0",
            "_model_name": "LayoutModel",
            "_view_count": null,
            "_view_module": "@jupyter-widgets/base",
            "_view_module_version": "1.2.0",
            "_view_name": "LayoutView",
            "align_content": null,
            "align_items": null,
            "align_self": null,
            "border": null,
            "bottom": null,
            "display": null,
            "flex": null,
            "flex_flow": null,
            "grid_area": null,
            "grid_auto_columns": null,
            "grid_auto_flow": null,
            "grid_auto_rows": null,
            "grid_column": null,
            "grid_gap": null,
            "grid_row": null,
            "grid_template_areas": null,
            "grid_template_columns": null,
            "grid_template_rows": null,
            "height": null,
            "justify_content": null,
            "justify_items": null,
            "left": null,
            "margin": null,
            "max_height": null,
            "max_width": null,
            "min_height": null,
            "min_width": null,
            "object_fit": null,
            "object_position": null,
            "order": null,
            "overflow": null,
            "overflow_x": null,
            "overflow_y": null,
            "padding": null,
            "right": null,
            "top": null,
            "visibility": null,
            "width": null
          }
        },
        "78af97f294c842f68edc10a5e6f03f21": {
          "model_module": "@jupyter-widgets/base",
          "model_module_version": "1.2.0",
          "model_name": "LayoutModel",
          "state": {
            "_model_module": "@jupyter-widgets/base",
            "_model_module_version": "1.2.0",
            "_model_name": "LayoutModel",
            "_view_count": null,
            "_view_module": "@jupyter-widgets/base",
            "_view_module_version": "1.2.0",
            "_view_name": "LayoutView",
            "align_content": null,
            "align_items": null,
            "align_self": null,
            "border": null,
            "bottom": null,
            "display": null,
            "flex": null,
            "flex_flow": null,
            "grid_area": null,
            "grid_auto_columns": null,
            "grid_auto_flow": null,
            "grid_auto_rows": null,
            "grid_column": null,
            "grid_gap": null,
            "grid_row": null,
            "grid_template_areas": null,
            "grid_template_columns": null,
            "grid_template_rows": null,
            "height": null,
            "justify_content": null,
            "justify_items": null,
            "left": null,
            "margin": null,
            "max_height": null,
            "max_width": null,
            "min_height": null,
            "min_width": null,
            "object_fit": null,
            "object_position": null,
            "order": null,
            "overflow": null,
            "overflow_x": null,
            "overflow_y": null,
            "padding": null,
            "right": null,
            "top": null,
            "visibility": null,
            "width": null
          }
        },
        "7f25ac0110e647f2adf5458208d6ed0a": {
          "model_module": "@jupyter-widgets/controls",
          "model_module_version": "1.5.0",
          "model_name": "DescriptionStyleModel",
          "state": {
            "_model_module": "@jupyter-widgets/controls",
            "_model_module_version": "1.5.0",
            "_model_name": "DescriptionStyleModel",
            "_view_count": null,
            "_view_module": "@jupyter-widgets/base",
            "_view_module_version": "1.2.0",
            "_view_name": "StyleView",
            "description_width": ""
          }
        },
        "848f1b6613854dcf8051571c024c7564": {
          "model_module": "@jupyter-widgets/controls",
          "model_module_version": "1.5.0",
          "model_name": "DescriptionStyleModel",
          "state": {
            "_model_module": "@jupyter-widgets/controls",
            "_model_module_version": "1.5.0",
            "_model_name": "DescriptionStyleModel",
            "_view_count": null,
            "_view_module": "@jupyter-widgets/base",
            "_view_module_version": "1.2.0",
            "_view_name": "StyleView",
            "description_width": ""
          }
        },
        "85942b8bf96443f2b328eb5993c706d0": {
          "model_module": "@jupyter-widgets/controls",
          "model_module_version": "1.5.0",
          "model_name": "HTMLModel",
          "state": {
            "_dom_classes": [],
            "_model_module": "@jupyter-widgets/controls",
            "_model_module_version": "1.5.0",
            "_model_name": "HTMLModel",
            "_view_count": null,
            "_view_module": "@jupyter-widgets/controls",
            "_view_module_version": "1.5.0",
            "_view_name": "HTMLView",
            "description": "",
            "description_tooltip": null,
            "layout": "IPY_MODEL_57a50fb22ee04440824d61f78f6b36c2",
            "placeholder": "​",
            "style": "IPY_MODEL_c154052126324bdfa345b96acd872f0d",
            "value": " 679/679 [00:00&lt;00:00, 34.6kB/s]"
          }
        },
        "876d590a41cf49fc82bc0162d61e7808": {
          "model_module": "@jupyter-widgets/base",
          "model_module_version": "1.2.0",
          "model_name": "LayoutModel",
          "state": {
            "_model_module": "@jupyter-widgets/base",
            "_model_module_version": "1.2.0",
            "_model_name": "LayoutModel",
            "_view_count": null,
            "_view_module": "@jupyter-widgets/base",
            "_view_module_version": "1.2.0",
            "_view_name": "LayoutView",
            "align_content": null,
            "align_items": null,
            "align_self": null,
            "border": null,
            "bottom": null,
            "display": null,
            "flex": null,
            "flex_flow": null,
            "grid_area": null,
            "grid_auto_columns": null,
            "grid_auto_flow": null,
            "grid_auto_rows": null,
            "grid_column": null,
            "grid_gap": null,
            "grid_row": null,
            "grid_template_areas": null,
            "grid_template_columns": null,
            "grid_template_rows": null,
            "height": null,
            "justify_content": null,
            "justify_items": null,
            "left": null,
            "margin": null,
            "max_height": null,
            "max_width": null,
            "min_height": null,
            "min_width": null,
            "object_fit": null,
            "object_position": null,
            "order": null,
            "overflow": null,
            "overflow_x": null,
            "overflow_y": null,
            "padding": null,
            "right": null,
            "top": null,
            "visibility": null,
            "width": null
          }
        },
        "8af52810fda0433bb7fdafb444854750": {
          "model_module": "@jupyter-widgets/controls",
          "model_module_version": "1.5.0",
          "model_name": "ProgressStyleModel",
          "state": {
            "_model_module": "@jupyter-widgets/controls",
            "_model_module_version": "1.5.0",
            "_model_name": "ProgressStyleModel",
            "_view_count": null,
            "_view_module": "@jupyter-widgets/base",
            "_view_module_version": "1.2.0",
            "_view_name": "StyleView",
            "bar_color": null,
            "description_width": ""
          }
        },
        "8b20c43280b84aaf9b0e721eca12cc47": {
          "model_module": "@jupyter-widgets/base",
          "model_module_version": "1.2.0",
          "model_name": "LayoutModel",
          "state": {
            "_model_module": "@jupyter-widgets/base",
            "_model_module_version": "1.2.0",
            "_model_name": "LayoutModel",
            "_view_count": null,
            "_view_module": "@jupyter-widgets/base",
            "_view_module_version": "1.2.0",
            "_view_name": "LayoutView",
            "align_content": null,
            "align_items": null,
            "align_self": null,
            "border": null,
            "bottom": null,
            "display": null,
            "flex": null,
            "flex_flow": null,
            "grid_area": null,
            "grid_auto_columns": null,
            "grid_auto_flow": null,
            "grid_auto_rows": null,
            "grid_column": null,
            "grid_gap": null,
            "grid_row": null,
            "grid_template_areas": null,
            "grid_template_columns": null,
            "grid_template_rows": null,
            "height": null,
            "justify_content": null,
            "justify_items": null,
            "left": null,
            "margin": null,
            "max_height": null,
            "max_width": null,
            "min_height": null,
            "min_width": null,
            "object_fit": null,
            "object_position": null,
            "order": null,
            "overflow": null,
            "overflow_x": null,
            "overflow_y": null,
            "padding": null,
            "right": null,
            "top": null,
            "visibility": null,
            "width": null
          }
        },
        "8c30304ec0e740879c72cc8710bd3e12": {
          "model_module": "@jupyter-widgets/controls",
          "model_module_version": "1.5.0",
          "model_name": "HTMLModel",
          "state": {
            "_dom_classes": [],
            "_model_module": "@jupyter-widgets/controls",
            "_model_module_version": "1.5.0",
            "_model_name": "HTMLModel",
            "_view_count": null,
            "_view_module": "@jupyter-widgets/controls",
            "_view_module_version": "1.5.0",
            "_view_name": "HTMLView",
            "description": "",
            "description_tooltip": null,
            "layout": "IPY_MODEL_8b20c43280b84aaf9b0e721eca12cc47",
            "placeholder": "​",
            "style": "IPY_MODEL_de4b63ea9c274b949e81bdbeddfa71c2",
            "value": "tokenizer.json: 100%"
          }
        },
        "94bb73c06d4f4095a0a6f9a04ecc9546": {
          "model_module": "@jupyter-widgets/controls",
          "model_module_version": "1.5.0",
          "model_name": "HTMLModel",
          "state": {
            "_dom_classes": [],
            "_model_module": "@jupyter-widgets/controls",
            "_model_module_version": "1.5.0",
            "_model_name": "HTMLModel",
            "_view_count": null,
            "_view_module": "@jupyter-widgets/controls",
            "_view_module_version": "1.5.0",
            "_view_name": "HTMLView",
            "description": "",
            "description_tooltip": null,
            "layout": "IPY_MODEL_876d590a41cf49fc82bc0162d61e7808",
            "placeholder": "​",
            "style": "IPY_MODEL_e26ceab003fe490488cef50a3c755585",
            "value": " 3.55G/3.55G [05:41&lt;00:00, 10.4MB/s]"
          }
        },
        "96f8bd8be57c414f968796ba3ce3eb4f": {
          "model_module": "@jupyter-widgets/controls",
          "model_module_version": "1.5.0",
          "model_name": "HTMLModel",
          "state": {
            "_dom_classes": [],
            "_model_module": "@jupyter-widgets/controls",
            "_model_module_version": "1.5.0",
            "_model_name": "HTMLModel",
            "_view_count": null,
            "_view_module": "@jupyter-widgets/controls",
            "_view_module_version": "1.5.0",
            "_view_name": "HTMLView",
            "description": "",
            "description_tooltip": null,
            "layout": "IPY_MODEL_78af97f294c842f68edc10a5e6f03f21",
            "placeholder": "​",
            "style": "IPY_MODEL_45003c9cef994736b612f3df137a6f69",
            "value": "config.json: 100%"
          }
        },
        "97526fa29cc14a82b2c40bce74856f1d": {
          "model_module": "@jupyter-widgets/base",
          "model_module_version": "1.2.0",
          "model_name": "LayoutModel",
          "state": {
            "_model_module": "@jupyter-widgets/base",
            "_model_module_version": "1.2.0",
            "_model_name": "LayoutModel",
            "_view_count": null,
            "_view_module": "@jupyter-widgets/base",
            "_view_module_version": "1.2.0",
            "_view_name": "LayoutView",
            "align_content": null,
            "align_items": null,
            "align_self": null,
            "border": null,
            "bottom": null,
            "display": null,
            "flex": null,
            "flex_flow": null,
            "grid_area": null,
            "grid_auto_columns": null,
            "grid_auto_flow": null,
            "grid_auto_rows": null,
            "grid_column": null,
            "grid_gap": null,
            "grid_row": null,
            "grid_template_areas": null,
            "grid_template_columns": null,
            "grid_template_rows": null,
            "height": null,
            "justify_content": null,
            "justify_items": null,
            "left": null,
            "margin": null,
            "max_height": null,
            "max_width": null,
            "min_height": null,
            "min_width": null,
            "object_fit": null,
            "object_position": null,
            "order": null,
            "overflow": null,
            "overflow_x": null,
            "overflow_y": null,
            "padding": null,
            "right": null,
            "top": null,
            "visibility": null,
            "width": null
          }
        },
        "97d6fa9e4119438bafffca862062c942": {
          "model_module": "@jupyter-widgets/base",
          "model_module_version": "1.2.0",
          "model_name": "LayoutModel",
          "state": {
            "_model_module": "@jupyter-widgets/base",
            "_model_module_version": "1.2.0",
            "_model_name": "LayoutModel",
            "_view_count": null,
            "_view_module": "@jupyter-widgets/base",
            "_view_module_version": "1.2.0",
            "_view_name": "LayoutView",
            "align_content": null,
            "align_items": null,
            "align_self": null,
            "border": null,
            "bottom": null,
            "display": null,
            "flex": null,
            "flex_flow": null,
            "grid_area": null,
            "grid_auto_columns": null,
            "grid_auto_flow": null,
            "grid_auto_rows": null,
            "grid_column": null,
            "grid_gap": null,
            "grid_row": null,
            "grid_template_areas": null,
            "grid_template_columns": null,
            "grid_template_rows": null,
            "height": null,
            "justify_content": null,
            "justify_items": null,
            "left": null,
            "margin": null,
            "max_height": null,
            "max_width": null,
            "min_height": null,
            "min_width": null,
            "object_fit": null,
            "object_position": null,
            "order": null,
            "overflow": null,
            "overflow_x": null,
            "overflow_y": null,
            "padding": null,
            "right": null,
            "top": null,
            "visibility": null,
            "width": null
          }
        },
        "b54f362f29684625afeb1919d49d99b1": {
          "model_module": "@jupyter-widgets/controls",
          "model_module_version": "1.5.0",
          "model_name": "HBoxModel",
          "state": {
            "_dom_classes": [],
            "_model_module": "@jupyter-widgets/controls",
            "_model_module_version": "1.5.0",
            "_model_name": "HBoxModel",
            "_view_count": null,
            "_view_module": "@jupyter-widgets/controls",
            "_view_module_version": "1.5.0",
            "_view_name": "HBoxView",
            "box_style": "",
            "children": [
              "IPY_MODEL_f877f31a22864d5f847fabf4b5029870",
              "IPY_MODEL_07d30fb46b604c2ab6aeb623c75abc3b",
              "IPY_MODEL_94bb73c06d4f4095a0a6f9a04ecc9546"
            ],
            "layout": "IPY_MODEL_2adcabe836034323b0ab705a974cb2e9"
          }
        },
        "b82a193d7c4b46e2af5a16837b0ff933": {
          "model_module": "@jupyter-widgets/base",
          "model_module_version": "1.2.0",
          "model_name": "LayoutModel",
          "state": {
            "_model_module": "@jupyter-widgets/base",
            "_model_module_version": "1.2.0",
            "_model_name": "LayoutModel",
            "_view_count": null,
            "_view_module": "@jupyter-widgets/base",
            "_view_module_version": "1.2.0",
            "_view_name": "LayoutView",
            "align_content": null,
            "align_items": null,
            "align_self": null,
            "border": null,
            "bottom": null,
            "display": null,
            "flex": null,
            "flex_flow": null,
            "grid_area": null,
            "grid_auto_columns": null,
            "grid_auto_flow": null,
            "grid_auto_rows": null,
            "grid_column": null,
            "grid_gap": null,
            "grid_row": null,
            "grid_template_areas": null,
            "grid_template_columns": null,
            "grid_template_rows": null,
            "height": null,
            "justify_content": null,
            "justify_items": null,
            "left": null,
            "margin": null,
            "max_height": null,
            "max_width": null,
            "min_height": null,
            "min_width": null,
            "object_fit": null,
            "object_position": null,
            "order": null,
            "overflow": null,
            "overflow_x": null,
            "overflow_y": null,
            "padding": null,
            "right": null,
            "top": null,
            "visibility": null,
            "width": null
          }
        },
        "c154052126324bdfa345b96acd872f0d": {
          "model_module": "@jupyter-widgets/controls",
          "model_module_version": "1.5.0",
          "model_name": "DescriptionStyleModel",
          "state": {
            "_model_module": "@jupyter-widgets/controls",
            "_model_module_version": "1.5.0",
            "_model_name": "DescriptionStyleModel",
            "_view_count": null,
            "_view_module": "@jupyter-widgets/base",
            "_view_module_version": "1.2.0",
            "_view_name": "StyleView",
            "description_width": ""
          }
        },
        "c2db50b9d58e4ab7973652f1b07bc1bf": {
          "model_module": "@jupyter-widgets/base",
          "model_module_version": "1.2.0",
          "model_name": "LayoutModel",
          "state": {
            "_model_module": "@jupyter-widgets/base",
            "_model_module_version": "1.2.0",
            "_model_name": "LayoutModel",
            "_view_count": null,
            "_view_module": "@jupyter-widgets/base",
            "_view_module_version": "1.2.0",
            "_view_name": "LayoutView",
            "align_content": null,
            "align_items": null,
            "align_self": null,
            "border": null,
            "bottom": null,
            "display": null,
            "flex": null,
            "flex_flow": null,
            "grid_area": null,
            "grid_auto_columns": null,
            "grid_auto_flow": null,
            "grid_auto_rows": null,
            "grid_column": null,
            "grid_gap": null,
            "grid_row": null,
            "grid_template_areas": null,
            "grid_template_columns": null,
            "grid_template_rows": null,
            "height": null,
            "justify_content": null,
            "justify_items": null,
            "left": null,
            "margin": null,
            "max_height": null,
            "max_width": null,
            "min_height": null,
            "min_width": null,
            "object_fit": null,
            "object_position": null,
            "order": null,
            "overflow": null,
            "overflow_x": null,
            "overflow_y": null,
            "padding": null,
            "right": null,
            "top": null,
            "visibility": null,
            "width": null
          }
        },
        "c91c92a2c7c247fda4c9e40fed0e3f96": {
          "model_module": "@jupyter-widgets/controls",
          "model_module_version": "1.5.0",
          "model_name": "FloatProgressModel",
          "state": {
            "_dom_classes": [],
            "_model_module": "@jupyter-widgets/controls",
            "_model_module_version": "1.5.0",
            "_model_name": "FloatProgressModel",
            "_view_count": null,
            "_view_module": "@jupyter-widgets/controls",
            "_view_module_version": "1.5.0",
            "_view_name": "ProgressView",
            "bar_style": "success",
            "description": "",
            "description_tooltip": null,
            "layout": "IPY_MODEL_c9ca8cc8da284c1c94d69fd53912f8de",
            "max": 679,
            "min": 0,
            "orientation": "horizontal",
            "style": "IPY_MODEL_63f4825894144d0398ca09917ca1b0a2",
            "value": 679
          }
        },
        "c9ca8cc8da284c1c94d69fd53912f8de": {
          "model_module": "@jupyter-widgets/base",
          "model_module_version": "1.2.0",
          "model_name": "LayoutModel",
          "state": {
            "_model_module": "@jupyter-widgets/base",
            "_model_module_version": "1.2.0",
            "_model_name": "LayoutModel",
            "_view_count": null,
            "_view_module": "@jupyter-widgets/base",
            "_view_module_version": "1.2.0",
            "_view_name": "LayoutView",
            "align_content": null,
            "align_items": null,
            "align_self": null,
            "border": null,
            "bottom": null,
            "display": null,
            "flex": null,
            "flex_flow": null,
            "grid_area": null,
            "grid_auto_columns": null,
            "grid_auto_flow": null,
            "grid_auto_rows": null,
            "grid_column": null,
            "grid_gap": null,
            "grid_row": null,
            "grid_template_areas": null,
            "grid_template_columns": null,
            "grid_template_rows": null,
            "height": null,
            "justify_content": null,
            "justify_items": null,
            "left": null,
            "margin": null,
            "max_height": null,
            "max_width": null,
            "min_height": null,
            "min_width": null,
            "object_fit": null,
            "object_position": null,
            "order": null,
            "overflow": null,
            "overflow_x": null,
            "overflow_y": null,
            "padding": null,
            "right": null,
            "top": null,
            "visibility": null,
            "width": null
          }
        },
        "d29cecac3e0b434897d257cb1999b439": {
          "model_module": "@jupyter-widgets/controls",
          "model_module_version": "1.5.0",
          "model_name": "FloatProgressModel",
          "state": {
            "_dom_classes": [],
            "_model_module": "@jupyter-widgets/controls",
            "_model_module_version": "1.5.0",
            "_model_name": "FloatProgressModel",
            "_view_count": null,
            "_view_module": "@jupyter-widgets/controls",
            "_view_module_version": "1.5.0",
            "_view_name": "ProgressView",
            "bar_style": "success",
            "description": "",
            "description_tooltip": null,
            "layout": "IPY_MODEL_097ed3828c5148ac9af403a58a093b22",
            "max": 7031660,
            "min": 0,
            "orientation": "horizontal",
            "style": "IPY_MODEL_8af52810fda0433bb7fdafb444854750",
            "value": 7031660
          }
        },
        "de4b63ea9c274b949e81bdbeddfa71c2": {
          "model_module": "@jupyter-widgets/controls",
          "model_module_version": "1.5.0",
          "model_name": "DescriptionStyleModel",
          "state": {
            "_model_module": "@jupyter-widgets/controls",
            "_model_module_version": "1.5.0",
            "_model_name": "DescriptionStyleModel",
            "_view_count": null,
            "_view_module": "@jupyter-widgets/base",
            "_view_module_version": "1.2.0",
            "_view_name": "StyleView",
            "description_width": ""
          }
        },
        "e23a2984606946109921a168b67d9ea1": {
          "model_module": "@jupyter-widgets/controls",
          "model_module_version": "1.5.0",
          "model_name": "HBoxModel",
          "state": {
            "_dom_classes": [],
            "_model_module": "@jupyter-widgets/controls",
            "_model_module_version": "1.5.0",
            "_model_name": "HBoxModel",
            "_view_count": null,
            "_view_module": "@jupyter-widgets/controls",
            "_view_module_version": "1.5.0",
            "_view_name": "HBoxView",
            "box_style": "",
            "children": [
              "IPY_MODEL_1610ed0355f2463992609f29db9c516c",
              "IPY_MODEL_249983caf3e94d6b9cd5eb13fa1119ec",
              "IPY_MODEL_403615534ac34a38abbcfb67db4f7551"
            ],
            "layout": "IPY_MODEL_780465483b6447f698a4a6143201bc34"
          }
        },
        "e26ceab003fe490488cef50a3c755585": {
          "model_module": "@jupyter-widgets/controls",
          "model_module_version": "1.5.0",
          "model_name": "DescriptionStyleModel",
          "state": {
            "_model_module": "@jupyter-widgets/controls",
            "_model_module_version": "1.5.0",
            "_model_name": "DescriptionStyleModel",
            "_view_count": null,
            "_view_module": "@jupyter-widgets/base",
            "_view_module_version": "1.2.0",
            "_view_name": "StyleView",
            "description_width": ""
          }
        },
        "f3bd24f5551f4b6aa37457551ca6d26a": {
          "model_module": "@jupyter-widgets/controls",
          "model_module_version": "1.5.0",
          "model_name": "DescriptionStyleModel",
          "state": {
            "_model_module": "@jupyter-widgets/controls",
            "_model_module_version": "1.5.0",
            "_model_name": "DescriptionStyleModel",
            "_view_count": null,
            "_view_module": "@jupyter-widgets/base",
            "_view_module_version": "1.2.0",
            "_view_name": "StyleView",
            "description_width": ""
          }
        },
        "f76f50b744c94ff0a98d914dbdfe3ece": {
          "model_module": "@jupyter-widgets/controls",
          "model_module_version": "1.5.0",
          "model_name": "HTMLModel",
          "state": {
            "_dom_classes": [],
            "_model_module": "@jupyter-widgets/controls",
            "_model_module_version": "1.5.0",
            "_model_name": "HTMLModel",
            "_view_count": null,
            "_view_module": "@jupyter-widgets/controls",
            "_view_module_version": "1.5.0",
            "_view_name": "HTMLView",
            "description": "",
            "description_tooltip": null,
            "layout": "IPY_MODEL_b82a193d7c4b46e2af5a16837b0ff933",
            "placeholder": "​",
            "style": "IPY_MODEL_0f80afb4364547338904a7b9bdbf20e9",
            "value": " 3.07k/3.07k [00:00&lt;00:00, 212kB/s]"
          }
        },
        "f877f31a22864d5f847fabf4b5029870": {
          "model_module": "@jupyter-widgets/controls",
          "model_module_version": "1.5.0",
          "model_name": "HTMLModel",
          "state": {
            "_dom_classes": [],
            "_model_module": "@jupyter-widgets/controls",
            "_model_module_version": "1.5.0",
            "_model_name": "HTMLModel",
            "_view_count": null,
            "_view_module": "@jupyter-widgets/controls",
            "_view_module_version": "1.5.0",
            "_view_name": "HTMLView",
            "description": "",
            "description_tooltip": null,
            "layout": "IPY_MODEL_011c46d999ab41a48a875a1e160131bf",
            "placeholder": "​",
            "style": "IPY_MODEL_848f1b6613854dcf8051571c024c7564",
            "value": "model.safetensors: 100%"
          }
        },
        "ff1e19ad4c7a4429bec30104c001ec47": {
          "model_module": "@jupyter-widgets/base",
          "model_module_version": "1.2.0",
          "model_name": "LayoutModel",
          "state": {
            "_model_module": "@jupyter-widgets/base",
            "_model_module_version": "1.2.0",
            "_model_name": "LayoutModel",
            "_view_count": null,
            "_view_module": "@jupyter-widgets/base",
            "_view_module_version": "1.2.0",
            "_view_name": "LayoutView",
            "align_content": null,
            "align_items": null,
            "align_self": null,
            "border": null,
            "bottom": null,
            "display": null,
            "flex": null,
            "flex_flow": null,
            "grid_area": null,
            "grid_auto_columns": null,
            "grid_auto_flow": null,
            "grid_auto_rows": null,
            "grid_column": null,
            "grid_gap": null,
            "grid_row": null,
            "grid_template_areas": null,
            "grid_template_columns": null,
            "grid_template_rows": null,
            "height": null,
            "justify_content": null,
            "justify_items": null,
            "left": null,
            "margin": null,
            "max_height": null,
            "max_width": null,
            "min_height": null,
            "min_width": null,
            "object_fit": null,
            "object_position": null,
            "order": null,
            "overflow": null,
            "overflow_x": null,
            "overflow_y": null,
            "padding": null,
            "right": null,
            "top": null,
            "visibility": null,
            "width": null
          }
        }
      }
    }
  },
  "nbformat": 4,
  "nbformat_minor": 0
}
